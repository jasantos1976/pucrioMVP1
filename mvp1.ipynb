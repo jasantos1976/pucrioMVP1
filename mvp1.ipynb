{
  "cells": [
    {
      "cell_type": "markdown",
      "metadata": {
        "id": "view-in-github",
        "colab_type": "text"
      },
      "source": [
        "<a href=\"https://colab.research.google.com/github/jasantos1976/pucrioMVP1/blob/main/mvp1.ipynb\" target=\"_parent\"><img src=\"https://colab.research.google.com/assets/colab-badge.svg\" alt=\"Open In Colab\"/></a>"
      ]
    },
    {
      "cell_type": "markdown",
      "metadata": {
        "id": "pNEKblitxBJh"
      },
      "source": [
        "# 1. Definição do Problema"
      ]
    },
    {
      "cell_type": "markdown",
      "metadata": {
        "id": "Tp4gXVlMxLtV"
      },
      "source": [
        "O dataset utilizado nesse MVP foi montado a partir da combinação de diversos arquivos csv extraídos do site do Ministério da Economia e são responsáveis por montar as estatísticas da Balança Comercial Brasileira. Como a combinação dos arquivos geraram um dataset com quase 260Mb de tamanho apenas para o primeiro trimestre de 2023, uma seleção para redução do arquivo de análise nesse MVP foi utilizada, conforme descrição a seguir: \n",
        "\n",
        "**O dataset representa 80k linhas da balança comercial, dividido em 40k linhas representando as importações de março de 2023 e 40k linhas representando as exportações de março de 2023**. Não foram utilizados critérios específicos para geração do arquivo, apenas um top(40000) para importações e um top(40000) para as exportações no período descrito anteriormente.\n",
        "\n",
        "\n",
        "Os arquivos originais podem ser obtidos pelo site https://www.gov.br/produtividade-e-comercio-exterior/pt-br/assuntos/comercio-exterior/estatisticas/base-de-dados-bruta\n",
        "\n",
        "\n",
        "\n",
        "**OBJETIVO**: Verificar nesse conjunto de dados se a balança está equilibrada ou se estamos tendendo mais a importação ou exportação. Visualizar também a seção que mais pesa na balança.\n",
        "\n",
        "\n",
        "**ATRIBUTOS NESSE DATASET**\n",
        "1. CO_TIPO - Indica se a linha representação importação (IMP) ou exportação (EXP)\n",
        "2. CO_ANO - Indica o ano do levantamento estatístico\n",
        "3. CO_MES - Indica o mês do lavantamento estatístico\n",
        "4. CO_NCM - Código que representa a Nomenclatura Comum do Mercosul (NCM)\n",
        "5. CO_SH6 - Código que representa o Sistema Harmonizado\n",
        "6. CO_SH2 - Código que representa o agrupamento por Capítulo \n",
        "7. CO_NCM_SECAO - Código romano que representa as seções da NCM\n",
        "8. NO_NCM_SECAO - Nome que representa a seção da NCM\n",
        "9. NO_NCM_PT - Nome que representa o produto na NCM em português\n",
        "10. SG_UNID - Representa a unidade que o produto foi comercializado\n",
        "11. CO_PAIS_ISOA3 - Código que representa o sistema de 3 letras (alfa-3) da ISO 3166-1 para nomenclatura de países\n",
        "12. NO_PAIS - Nome do país em português \n",
        "13. SG_UF_NCM - Representa a UF de origem das importações e exportações\n",
        "14. NO_VIA - Via utilizada no transporte das mercadorias\n",
        "15. CO_URF - Representa a Unidade de Jurisdição de despacho/embarque da RFB\n",
        "16. QT_ESTAT - Representa os produtos em quantidade conforme a unidade\n",
        "17. KG_LIQUIDO - Representa os produtos em quilograma líquido\n",
        "18. VL_FOB - Representa a imp. ou exp. em valor FOB(US$)\n",
        "19. VL_FRETE - (Apenas importação) - Representa o valor do frete da mercadoria\n",
        "20. VL_SEGURO - (Apenas importação) - Representa o valor do seguro da mercadoria"
      ]
    },
    {
      "cell_type": "markdown",
      "metadata": {
        "id": "VYUd-SNDcm7I"
      },
      "source": [
        "# 2. Importações das bibliotecas\n"
      ]
    },
    {
      "cell_type": "code",
      "execution_count": 1,
      "metadata": {
        "id": "CH1ztIjVB7jD"
      },
      "outputs": [],
      "source": [
        "import pandas as pd\n",
        "import numpy as np\n",
        "## Criação de gráficos e visualizações\n",
        "import matplotlib.pyplot as plt\n",
        "import matplotlib as mpl\n",
        "## utilizado para tratamento de missings\n",
        "import missingno as ms \n",
        "## Transformações Numéricas\n",
        "from sklearn.preprocessing import MinMaxScaler # para normalização\n",
        "from sklearn.preprocessing import StandardScaler # para padronização\n",
        "## Transformações Categóricas\n",
        "from sklearn.preprocessing import OneHotEncoder\n",
        "from sklearn.preprocessing import OrdinalEncoder\n",
        "## Dividir dados de teste e treino\n",
        "from sklearn.model_selection import train_test_split\n"
      ]
    },
    {
      "cell_type": "markdown",
      "metadata": {
        "id": "OA47H104fJe9"
      },
      "source": [
        "# 3. Carga do Dataset"
      ]
    },
    {
      "cell_type": "code",
      "execution_count": 2,
      "metadata": {
        "id": "yuPLe9FsCAGF"
      },
      "outputs": [],
      "source": [
        "# Atribui o caminho do dataset a variavel url\n",
        "url = \"https://raw.githubusercontent.com/jasantos1976/pucrioMVP1/main/DS_MVP1_80K_UTF8.csv\"\n",
        "\n",
        "# Carrega os dados do arquivo para a variável dsImpExp\n",
        "# Na primeira carga, percebeu-se que a tipagem de alguns atributos estavam \n",
        "# incorretas. Casos como a NCM que possuem 8 dígitos e que podem começar com \n",
        "# zeros, a carga como int remove esse zero à esquerda e isso incorrerá em erro \n",
        "# pois haverá combinações não desejadas entre nomenclaturas. Diante disso, a \n",
        "# carga inicial para o dataframe já terá esses atributos transformados\n",
        "\n",
        "# Dicionário com os atributos e tipos corretos\n",
        "dicAtributos = {'CO_ANO' : np.str_ , \n",
        "                'CO_MES' : np.str_ , \n",
        "                'CO_NCM' : np.str_ , \n",
        "                'CO_SH6' : np.str_ ,  \n",
        "                'CO_SH2' : np.str_ , \n",
        "                'CO_URF' : np.str_  }\n",
        "\n",
        "# Cria o dataframe passando os atributos com seus respectivos tipos                \n",
        "dfImpExp = pd.read_csv(url, delimiter=';', dtype=dicAtributos)\n"
      ]
    },
    {
      "cell_type": "markdown",
      "metadata": {
        "id": "XScGjLolfmAS"
      },
      "source": [
        "# 4. Análise Exploratória\n"
      ]
    },
    {
      "cell_type": "markdown",
      "metadata": {
        "id": "cvq2JSrTgKWF"
      },
      "source": [
        "### 4.1 Informações gerais"
      ]
    },
    {
      "cell_type": "code",
      "execution_count": 3,
      "metadata": {
        "colab": {
          "base_uri": "https://localhost:8080/"
        },
        "id": "yA0I8kBihyB4",
        "outputId": "29de153d-7a06-4e4c-f7bf-44a0f1773de6"
      },
      "outputs": [
        {
          "output_type": "execute_result",
          "data": {
            "text/plain": [
              "(80000, 20)"
            ]
          },
          "metadata": {},
          "execution_count": 3
        }
      ],
      "source": [
        "# Exibe a dimensão do dataset\n",
        "dfImpExp.shape\n"
      ]
    },
    {
      "cell_type": "code",
      "execution_count": 4,
      "metadata": {
        "colab": {
          "base_uri": "https://localhost:8080/",
          "height": 1000
        },
        "id": "0oDwQ2L4dtvo",
        "outputId": "b089f3eb-8c3e-4360-f06f-7de5aa3d3ece"
      },
      "outputs": [
        {
          "output_type": "execute_result",
          "data": {
            "text/plain": [
              "  CO_TIPO CO_ANO CO_MES    CO_NCM  CO_SH6 CO_SH2 CO_NCM_SECAO  \\\n",
              "0     IMP   2023     03  01012100  010121     01            I   \n",
              "1     IMP   2023     03  01031000  010310     01            I   \n",
              "2     IMP   2023     03  01051110  010511     01            I   \n",
              "3     IMP   2023     03  01063900  010639     01            I   \n",
              "4     IMP   2023     03  02013000  020130     02            I   \n",
              "5     IMP   2023     03  02013000  020130     02            I   \n",
              "6     IMP   2023     03  02013000  020130     02            I   \n",
              "7     IMP   2023     03  02023000  020230     02            I   \n",
              "8     IMP   2023     03  02023000  020230     02            I   \n",
              "9     IMP   2023     03  02023000  020230     02            I   \n",
              "\n",
              "                                NO_SECAO_PT  \\\n",
              "0  Animais vivos e produtos do reino animal   \n",
              "1  Animais vivos e produtos do reino animal   \n",
              "2  Animais vivos e produtos do reino animal   \n",
              "3  Animais vivos e produtos do reino animal   \n",
              "4  Animais vivos e produtos do reino animal   \n",
              "5  Animais vivos e produtos do reino animal   \n",
              "6  Animais vivos e produtos do reino animal   \n",
              "7  Animais vivos e produtos do reino animal   \n",
              "8  Animais vivos e produtos do reino animal   \n",
              "9  Animais vivos e produtos do reino animal   \n",
              "\n",
              "                                           NO_NCM_PT SG_UNID CO_PAIS_ISOA3  \\\n",
              "0                  Cavalos reprodutores de raça pura   UNID.           ARG   \n",
              "1                   Suínos reprodutores de raça pura   UNID.           USA   \n",
              "2  Galos e galinhas, peso <= 185 g, de linha pura...   UNID.           ESP   \n",
              "3                                  Outras aves vivas   UNID.           PRT   \n",
              "4  Carnes desossadas de bovino, frescas ou refrig...   KGL             ARG   \n",
              "5  Carnes desossadas de bovino, frescas ou refrig...   KGL             PRY   \n",
              "6  Carnes desossadas de bovino, frescas ou refrig...   KGL             URY   \n",
              "7            Carnes desossadas de bovino, congeladas   KGL             ARG   \n",
              "8            Carnes desossadas de bovino, congeladas   KGL             ARG   \n",
              "9            Carnes desossadas de bovino, congeladas   KGL             ARG   \n",
              "\n",
              "          NO_PAIS SG_UF_NCM      NO_VIA   CO_URF  QT_ESTAT  KG_LIQUIDO  \\\n",
              "0       Argentina        RS  RODOVIARIA  1017500        11        5500   \n",
              "1  Estados Unidos        PR       AEREA  0817700       857       61540   \n",
              "2         Espanha        SP       AEREA  0817600     16720         669   \n",
              "3        Portugal        SP       AEREA  0817600        80           1   \n",
              "4       Argentina        SP  RODOVIARIA  1017500     82070       82070   \n",
              "5        Paraguai        MG  RODOVIARIA  0917500    330281      330281   \n",
              "6         Uruguai        RS  RODOVIARIA  1010252     11586       11586   \n",
              "7       Argentina        BA    MARITIMA  0517800      3206        3206   \n",
              "8       Argentina        MG  RODOVIARIA  1017500     21833       21833   \n",
              "9       Argentina        SC  RODOVIARIA  1017503     68660       68660   \n",
              "\n",
              "    VL_FOB  VL_FRETE  VL_SEGURO  \n",
              "0    38500    3000.0        0.0  \n",
              "1   520414  334279.0     1043.0  \n",
              "2    84980   14254.0        0.0  \n",
              "3     1520     422.0        0.0  \n",
              "4   893872    8352.0     2200.0  \n",
              "5  2255520   19078.0        0.0  \n",
              "6   102311     800.0      141.0  \n",
              "7    40641     163.0       80.0  \n",
              "8   186605    1800.0        0.0  \n",
              "9   614633    4179.0        0.0  "
            ],
            "text/html": [
              "\n",
              "  <div id=\"df-7814c489-e4c0-456e-8114-bff2f9c8eaf4\">\n",
              "    <div class=\"colab-df-container\">\n",
              "      <div>\n",
              "<style scoped>\n",
              "    .dataframe tbody tr th:only-of-type {\n",
              "        vertical-align: middle;\n",
              "    }\n",
              "\n",
              "    .dataframe tbody tr th {\n",
              "        vertical-align: top;\n",
              "    }\n",
              "\n",
              "    .dataframe thead th {\n",
              "        text-align: right;\n",
              "    }\n",
              "</style>\n",
              "<table border=\"1\" class=\"dataframe\">\n",
              "  <thead>\n",
              "    <tr style=\"text-align: right;\">\n",
              "      <th></th>\n",
              "      <th>CO_TIPO</th>\n",
              "      <th>CO_ANO</th>\n",
              "      <th>CO_MES</th>\n",
              "      <th>CO_NCM</th>\n",
              "      <th>CO_SH6</th>\n",
              "      <th>CO_SH2</th>\n",
              "      <th>CO_NCM_SECAO</th>\n",
              "      <th>NO_SECAO_PT</th>\n",
              "      <th>NO_NCM_PT</th>\n",
              "      <th>SG_UNID</th>\n",
              "      <th>CO_PAIS_ISOA3</th>\n",
              "      <th>NO_PAIS</th>\n",
              "      <th>SG_UF_NCM</th>\n",
              "      <th>NO_VIA</th>\n",
              "      <th>CO_URF</th>\n",
              "      <th>QT_ESTAT</th>\n",
              "      <th>KG_LIQUIDO</th>\n",
              "      <th>VL_FOB</th>\n",
              "      <th>VL_FRETE</th>\n",
              "      <th>VL_SEGURO</th>\n",
              "    </tr>\n",
              "  </thead>\n",
              "  <tbody>\n",
              "    <tr>\n",
              "      <th>0</th>\n",
              "      <td>IMP</td>\n",
              "      <td>2023</td>\n",
              "      <td>03</td>\n",
              "      <td>01012100</td>\n",
              "      <td>010121</td>\n",
              "      <td>01</td>\n",
              "      <td>I</td>\n",
              "      <td>Animais vivos e produtos do reino animal</td>\n",
              "      <td>Cavalos reprodutores de raça pura</td>\n",
              "      <td>UNID.</td>\n",
              "      <td>ARG</td>\n",
              "      <td>Argentina</td>\n",
              "      <td>RS</td>\n",
              "      <td>RODOVIARIA</td>\n",
              "      <td>1017500</td>\n",
              "      <td>11</td>\n",
              "      <td>5500</td>\n",
              "      <td>38500</td>\n",
              "      <td>3000.0</td>\n",
              "      <td>0.0</td>\n",
              "    </tr>\n",
              "    <tr>\n",
              "      <th>1</th>\n",
              "      <td>IMP</td>\n",
              "      <td>2023</td>\n",
              "      <td>03</td>\n",
              "      <td>01031000</td>\n",
              "      <td>010310</td>\n",
              "      <td>01</td>\n",
              "      <td>I</td>\n",
              "      <td>Animais vivos e produtos do reino animal</td>\n",
              "      <td>Suínos reprodutores de raça pura</td>\n",
              "      <td>UNID.</td>\n",
              "      <td>USA</td>\n",
              "      <td>Estados Unidos</td>\n",
              "      <td>PR</td>\n",
              "      <td>AEREA</td>\n",
              "      <td>0817700</td>\n",
              "      <td>857</td>\n",
              "      <td>61540</td>\n",
              "      <td>520414</td>\n",
              "      <td>334279.0</td>\n",
              "      <td>1043.0</td>\n",
              "    </tr>\n",
              "    <tr>\n",
              "      <th>2</th>\n",
              "      <td>IMP</td>\n",
              "      <td>2023</td>\n",
              "      <td>03</td>\n",
              "      <td>01051110</td>\n",
              "      <td>010511</td>\n",
              "      <td>01</td>\n",
              "      <td>I</td>\n",
              "      <td>Animais vivos e produtos do reino animal</td>\n",
              "      <td>Galos e galinhas, peso &lt;= 185 g, de linha pura...</td>\n",
              "      <td>UNID.</td>\n",
              "      <td>ESP</td>\n",
              "      <td>Espanha</td>\n",
              "      <td>SP</td>\n",
              "      <td>AEREA</td>\n",
              "      <td>0817600</td>\n",
              "      <td>16720</td>\n",
              "      <td>669</td>\n",
              "      <td>84980</td>\n",
              "      <td>14254.0</td>\n",
              "      <td>0.0</td>\n",
              "    </tr>\n",
              "    <tr>\n",
              "      <th>3</th>\n",
              "      <td>IMP</td>\n",
              "      <td>2023</td>\n",
              "      <td>03</td>\n",
              "      <td>01063900</td>\n",
              "      <td>010639</td>\n",
              "      <td>01</td>\n",
              "      <td>I</td>\n",
              "      <td>Animais vivos e produtos do reino animal</td>\n",
              "      <td>Outras aves vivas</td>\n",
              "      <td>UNID.</td>\n",
              "      <td>PRT</td>\n",
              "      <td>Portugal</td>\n",
              "      <td>SP</td>\n",
              "      <td>AEREA</td>\n",
              "      <td>0817600</td>\n",
              "      <td>80</td>\n",
              "      <td>1</td>\n",
              "      <td>1520</td>\n",
              "      <td>422.0</td>\n",
              "      <td>0.0</td>\n",
              "    </tr>\n",
              "    <tr>\n",
              "      <th>4</th>\n",
              "      <td>IMP</td>\n",
              "      <td>2023</td>\n",
              "      <td>03</td>\n",
              "      <td>02013000</td>\n",
              "      <td>020130</td>\n",
              "      <td>02</td>\n",
              "      <td>I</td>\n",
              "      <td>Animais vivos e produtos do reino animal</td>\n",
              "      <td>Carnes desossadas de bovino, frescas ou refrig...</td>\n",
              "      <td>KGL</td>\n",
              "      <td>ARG</td>\n",
              "      <td>Argentina</td>\n",
              "      <td>SP</td>\n",
              "      <td>RODOVIARIA</td>\n",
              "      <td>1017500</td>\n",
              "      <td>82070</td>\n",
              "      <td>82070</td>\n",
              "      <td>893872</td>\n",
              "      <td>8352.0</td>\n",
              "      <td>2200.0</td>\n",
              "    </tr>\n",
              "    <tr>\n",
              "      <th>5</th>\n",
              "      <td>IMP</td>\n",
              "      <td>2023</td>\n",
              "      <td>03</td>\n",
              "      <td>02013000</td>\n",
              "      <td>020130</td>\n",
              "      <td>02</td>\n",
              "      <td>I</td>\n",
              "      <td>Animais vivos e produtos do reino animal</td>\n",
              "      <td>Carnes desossadas de bovino, frescas ou refrig...</td>\n",
              "      <td>KGL</td>\n",
              "      <td>PRY</td>\n",
              "      <td>Paraguai</td>\n",
              "      <td>MG</td>\n",
              "      <td>RODOVIARIA</td>\n",
              "      <td>0917500</td>\n",
              "      <td>330281</td>\n",
              "      <td>330281</td>\n",
              "      <td>2255520</td>\n",
              "      <td>19078.0</td>\n",
              "      <td>0.0</td>\n",
              "    </tr>\n",
              "    <tr>\n",
              "      <th>6</th>\n",
              "      <td>IMP</td>\n",
              "      <td>2023</td>\n",
              "      <td>03</td>\n",
              "      <td>02013000</td>\n",
              "      <td>020130</td>\n",
              "      <td>02</td>\n",
              "      <td>I</td>\n",
              "      <td>Animais vivos e produtos do reino animal</td>\n",
              "      <td>Carnes desossadas de bovino, frescas ou refrig...</td>\n",
              "      <td>KGL</td>\n",
              "      <td>URY</td>\n",
              "      <td>Uruguai</td>\n",
              "      <td>RS</td>\n",
              "      <td>RODOVIARIA</td>\n",
              "      <td>1010252</td>\n",
              "      <td>11586</td>\n",
              "      <td>11586</td>\n",
              "      <td>102311</td>\n",
              "      <td>800.0</td>\n",
              "      <td>141.0</td>\n",
              "    </tr>\n",
              "    <tr>\n",
              "      <th>7</th>\n",
              "      <td>IMP</td>\n",
              "      <td>2023</td>\n",
              "      <td>03</td>\n",
              "      <td>02023000</td>\n",
              "      <td>020230</td>\n",
              "      <td>02</td>\n",
              "      <td>I</td>\n",
              "      <td>Animais vivos e produtos do reino animal</td>\n",
              "      <td>Carnes desossadas de bovino, congeladas</td>\n",
              "      <td>KGL</td>\n",
              "      <td>ARG</td>\n",
              "      <td>Argentina</td>\n",
              "      <td>BA</td>\n",
              "      <td>MARITIMA</td>\n",
              "      <td>0517800</td>\n",
              "      <td>3206</td>\n",
              "      <td>3206</td>\n",
              "      <td>40641</td>\n",
              "      <td>163.0</td>\n",
              "      <td>80.0</td>\n",
              "    </tr>\n",
              "    <tr>\n",
              "      <th>8</th>\n",
              "      <td>IMP</td>\n",
              "      <td>2023</td>\n",
              "      <td>03</td>\n",
              "      <td>02023000</td>\n",
              "      <td>020230</td>\n",
              "      <td>02</td>\n",
              "      <td>I</td>\n",
              "      <td>Animais vivos e produtos do reino animal</td>\n",
              "      <td>Carnes desossadas de bovino, congeladas</td>\n",
              "      <td>KGL</td>\n",
              "      <td>ARG</td>\n",
              "      <td>Argentina</td>\n",
              "      <td>MG</td>\n",
              "      <td>RODOVIARIA</td>\n",
              "      <td>1017500</td>\n",
              "      <td>21833</td>\n",
              "      <td>21833</td>\n",
              "      <td>186605</td>\n",
              "      <td>1800.0</td>\n",
              "      <td>0.0</td>\n",
              "    </tr>\n",
              "    <tr>\n",
              "      <th>9</th>\n",
              "      <td>IMP</td>\n",
              "      <td>2023</td>\n",
              "      <td>03</td>\n",
              "      <td>02023000</td>\n",
              "      <td>020230</td>\n",
              "      <td>02</td>\n",
              "      <td>I</td>\n",
              "      <td>Animais vivos e produtos do reino animal</td>\n",
              "      <td>Carnes desossadas de bovino, congeladas</td>\n",
              "      <td>KGL</td>\n",
              "      <td>ARG</td>\n",
              "      <td>Argentina</td>\n",
              "      <td>SC</td>\n",
              "      <td>RODOVIARIA</td>\n",
              "      <td>1017503</td>\n",
              "      <td>68660</td>\n",
              "      <td>68660</td>\n",
              "      <td>614633</td>\n",
              "      <td>4179.0</td>\n",
              "      <td>0.0</td>\n",
              "    </tr>\n",
              "  </tbody>\n",
              "</table>\n",
              "</div>\n",
              "      <button class=\"colab-df-convert\" onclick=\"convertToInteractive('df-7814c489-e4c0-456e-8114-bff2f9c8eaf4')\"\n",
              "              title=\"Convert this dataframe to an interactive table.\"\n",
              "              style=\"display:none;\">\n",
              "        \n",
              "  <svg xmlns=\"http://www.w3.org/2000/svg\" height=\"24px\"viewBox=\"0 0 24 24\"\n",
              "       width=\"24px\">\n",
              "    <path d=\"M0 0h24v24H0V0z\" fill=\"none\"/>\n",
              "    <path d=\"M18.56 5.44l.94 2.06.94-2.06 2.06-.94-2.06-.94-.94-2.06-.94 2.06-2.06.94zm-11 1L8.5 8.5l.94-2.06 2.06-.94-2.06-.94L8.5 2.5l-.94 2.06-2.06.94zm10 10l.94 2.06.94-2.06 2.06-.94-2.06-.94-.94-2.06-.94 2.06-2.06.94z\"/><path d=\"M17.41 7.96l-1.37-1.37c-.4-.4-.92-.59-1.43-.59-.52 0-1.04.2-1.43.59L10.3 9.45l-7.72 7.72c-.78.78-.78 2.05 0 2.83L4 21.41c.39.39.9.59 1.41.59.51 0 1.02-.2 1.41-.59l7.78-7.78 2.81-2.81c.8-.78.8-2.07 0-2.86zM5.41 20L4 18.59l7.72-7.72 1.47 1.35L5.41 20z\"/>\n",
              "  </svg>\n",
              "      </button>\n",
              "      \n",
              "  <style>\n",
              "    .colab-df-container {\n",
              "      display:flex;\n",
              "      flex-wrap:wrap;\n",
              "      gap: 12px;\n",
              "    }\n",
              "\n",
              "    .colab-df-convert {\n",
              "      background-color: #E8F0FE;\n",
              "      border: none;\n",
              "      border-radius: 50%;\n",
              "      cursor: pointer;\n",
              "      display: none;\n",
              "      fill: #1967D2;\n",
              "      height: 32px;\n",
              "      padding: 0 0 0 0;\n",
              "      width: 32px;\n",
              "    }\n",
              "\n",
              "    .colab-df-convert:hover {\n",
              "      background-color: #E2EBFA;\n",
              "      box-shadow: 0px 1px 2px rgba(60, 64, 67, 0.3), 0px 1px 3px 1px rgba(60, 64, 67, 0.15);\n",
              "      fill: #174EA6;\n",
              "    }\n",
              "\n",
              "    [theme=dark] .colab-df-convert {\n",
              "      background-color: #3B4455;\n",
              "      fill: #D2E3FC;\n",
              "    }\n",
              "\n",
              "    [theme=dark] .colab-df-convert:hover {\n",
              "      background-color: #434B5C;\n",
              "      box-shadow: 0px 1px 3px 1px rgba(0, 0, 0, 0.15);\n",
              "      filter: drop-shadow(0px 1px 2px rgba(0, 0, 0, 0.3));\n",
              "      fill: #FFFFFF;\n",
              "    }\n",
              "  </style>\n",
              "\n",
              "      <script>\n",
              "        const buttonEl =\n",
              "          document.querySelector('#df-7814c489-e4c0-456e-8114-bff2f9c8eaf4 button.colab-df-convert');\n",
              "        buttonEl.style.display =\n",
              "          google.colab.kernel.accessAllowed ? 'block' : 'none';\n",
              "\n",
              "        async function convertToInteractive(key) {\n",
              "          const element = document.querySelector('#df-7814c489-e4c0-456e-8114-bff2f9c8eaf4');\n",
              "          const dataTable =\n",
              "            await google.colab.kernel.invokeFunction('convertToInteractive',\n",
              "                                                     [key], {});\n",
              "          if (!dataTable) return;\n",
              "\n",
              "          const docLinkHtml = 'Like what you see? Visit the ' +\n",
              "            '<a target=\"_blank\" href=https://colab.research.google.com/notebooks/data_table.ipynb>data table notebook</a>'\n",
              "            + ' to learn more about interactive tables.';\n",
              "          element.innerHTML = '';\n",
              "          dataTable['output_type'] = 'display_data';\n",
              "          await google.colab.output.renderOutput(dataTable, element);\n",
              "          const docLink = document.createElement('div');\n",
              "          docLink.innerHTML = docLinkHtml;\n",
              "          element.appendChild(docLink);\n",
              "        }\n",
              "      </script>\n",
              "    </div>\n",
              "  </div>\n",
              "  "
            ]
          },
          "metadata": {},
          "execution_count": 4
        }
      ],
      "source": [
        "# Exibe as primeiras 10 linhas do dataset\n",
        "dfImpExp.head(n=10)\n"
      ]
    },
    {
      "cell_type": "code",
      "execution_count": 5,
      "metadata": {
        "colab": {
          "base_uri": "https://localhost:8080/",
          "height": 1000
        },
        "id": "eBr36B_8iy_V",
        "outputId": "658fc041-753e-4f9e-e0ca-3909ee08ff81"
      },
      "outputs": [
        {
          "output_type": "execute_result",
          "data": {
            "text/plain": [
              "      CO_TIPO CO_ANO CO_MES    CO_NCM  CO_SH6 CO_SH2 CO_NCM_SECAO  \\\n",
              "79990     EXP   2023     03  25161100  251611     25            V   \n",
              "79991     EXP   2023     03  25161100  251611     25            V   \n",
              "79992     EXP   2023     03  25181000  251810     25            V   \n",
              "79993     EXP   2023     03  25181000  251810     25            V   \n",
              "79994     EXP   2023     03  25181000  251810     25            V   \n",
              "79995     EXP   2023     03  25181000  251810     25            V   \n",
              "79996     EXP   2023     03  25181000  251810     25            V   \n",
              "79997     EXP   2023     03  25181000  251810     25            V   \n",
              "79998     EXP   2023     03  25181000  251810     25            V   \n",
              "79999     EXP   2023     03  30061010  300610     30           VI   \n",
              "\n",
              "                                             NO_SECAO_PT  \\\n",
              "79990                                  Produtos minerais   \n",
              "79991                                  Produtos minerais   \n",
              "79992                                  Produtos minerais   \n",
              "79993                                  Produtos minerais   \n",
              "79994                                  Produtos minerais   \n",
              "79995                                  Produtos minerais   \n",
              "79996                                  Produtos minerais   \n",
              "79997                                  Produtos minerais   \n",
              "79998                                  Produtos minerais   \n",
              "79999  Produtos das indústrias químicas ou indústrias...   \n",
              "\n",
              "                                               NO_NCM_PT SG_UNID  \\\n",
              "79990                     Granito em bruto ou desbastado   M3      \n",
              "79991                     Granito em bruto ou desbastado   M3      \n",
              "79992  Dolomita não calcinada nem sinterizada, denomi...   KGL     \n",
              "79993  Dolomita não calcinada nem sinterizada, denomi...   KGL     \n",
              "79994  Dolomita não calcinada nem sinterizada, denomi...   KGL     \n",
              "79995  Dolomita não calcinada nem sinterizada, denomi...   KGL     \n",
              "79996  Dolomita não calcinada nem sinterizada, denomi...   KGL     \n",
              "79997  Dolomita não calcinada nem sinterizada, denomi...   KGL     \n",
              "79998  Dolomita não calcinada nem sinterizada, denomi...   KGL     \n",
              "79999  Materiais para suturas cirúrgicas, de polidiex...   KGL     \n",
              "\n",
              "      CO_PAIS_ISOA3         NO_PAIS SG_UF_NCM      NO_VIA   CO_URF  QT_ESTAT  \\\n",
              "79990           ITA          Itália        MG    MARITIMA  0727600         9   \n",
              "79991           ITA          Itália        PI    MARITIMA  0317900        42   \n",
              "79992           BOL         Bolívia        SP  RODOVIARIA  0147600      9000   \n",
              "79993           ITA          Itália        ES    MARITIMA  0727600    209140   \n",
              "79994           PRY        Paraguai        PR  RODOVIARIA  0147700   7072000   \n",
              "79995           PRY        Paraguai        PR  RODOVIARIA  0147800     32000   \n",
              "79996           URY         Uruguai        PR  RODOVIARIA  1017701     68750   \n",
              "79997           URY         Uruguai        RS  RODOVIARIA  1010253   1311800   \n",
              "79998           USA  Estados Unidos        CE       AEREA  0817700         1   \n",
              "79999           MEX          México        MG       AEREA  0817700       338   \n",
              "\n",
              "       KG_LIQUIDO  VL_FOB  VL_FRETE  VL_SEGURO  \n",
              "79990       24540   30540       NaN        NaN  \n",
              "79991      149780   50032       NaN        NaN  \n",
              "79992        9000    1931       NaN        NaN  \n",
              "79993      209140   97597       NaN        NaN  \n",
              "79994     7072000  152959       NaN        NaN  \n",
              "79995       32000    1066       NaN        NaN  \n",
              "79996       68750    3578       NaN        NaN  \n",
              "79997     1311800   24312       NaN        NaN  \n",
              "79998           1       5       NaN        NaN  \n",
              "79999         338   25859       NaN        NaN  "
            ],
            "text/html": [
              "\n",
              "  <div id=\"df-e3bb7b6d-8149-4646-b7e4-2a959b00803e\">\n",
              "    <div class=\"colab-df-container\">\n",
              "      <div>\n",
              "<style scoped>\n",
              "    .dataframe tbody tr th:only-of-type {\n",
              "        vertical-align: middle;\n",
              "    }\n",
              "\n",
              "    .dataframe tbody tr th {\n",
              "        vertical-align: top;\n",
              "    }\n",
              "\n",
              "    .dataframe thead th {\n",
              "        text-align: right;\n",
              "    }\n",
              "</style>\n",
              "<table border=\"1\" class=\"dataframe\">\n",
              "  <thead>\n",
              "    <tr style=\"text-align: right;\">\n",
              "      <th></th>\n",
              "      <th>CO_TIPO</th>\n",
              "      <th>CO_ANO</th>\n",
              "      <th>CO_MES</th>\n",
              "      <th>CO_NCM</th>\n",
              "      <th>CO_SH6</th>\n",
              "      <th>CO_SH2</th>\n",
              "      <th>CO_NCM_SECAO</th>\n",
              "      <th>NO_SECAO_PT</th>\n",
              "      <th>NO_NCM_PT</th>\n",
              "      <th>SG_UNID</th>\n",
              "      <th>CO_PAIS_ISOA3</th>\n",
              "      <th>NO_PAIS</th>\n",
              "      <th>SG_UF_NCM</th>\n",
              "      <th>NO_VIA</th>\n",
              "      <th>CO_URF</th>\n",
              "      <th>QT_ESTAT</th>\n",
              "      <th>KG_LIQUIDO</th>\n",
              "      <th>VL_FOB</th>\n",
              "      <th>VL_FRETE</th>\n",
              "      <th>VL_SEGURO</th>\n",
              "    </tr>\n",
              "  </thead>\n",
              "  <tbody>\n",
              "    <tr>\n",
              "      <th>79990</th>\n",
              "      <td>EXP</td>\n",
              "      <td>2023</td>\n",
              "      <td>03</td>\n",
              "      <td>25161100</td>\n",
              "      <td>251611</td>\n",
              "      <td>25</td>\n",
              "      <td>V</td>\n",
              "      <td>Produtos minerais</td>\n",
              "      <td>Granito em bruto ou desbastado</td>\n",
              "      <td>M3</td>\n",
              "      <td>ITA</td>\n",
              "      <td>Itália</td>\n",
              "      <td>MG</td>\n",
              "      <td>MARITIMA</td>\n",
              "      <td>0727600</td>\n",
              "      <td>9</td>\n",
              "      <td>24540</td>\n",
              "      <td>30540</td>\n",
              "      <td>NaN</td>\n",
              "      <td>NaN</td>\n",
              "    </tr>\n",
              "    <tr>\n",
              "      <th>79991</th>\n",
              "      <td>EXP</td>\n",
              "      <td>2023</td>\n",
              "      <td>03</td>\n",
              "      <td>25161100</td>\n",
              "      <td>251611</td>\n",
              "      <td>25</td>\n",
              "      <td>V</td>\n",
              "      <td>Produtos minerais</td>\n",
              "      <td>Granito em bruto ou desbastado</td>\n",
              "      <td>M3</td>\n",
              "      <td>ITA</td>\n",
              "      <td>Itália</td>\n",
              "      <td>PI</td>\n",
              "      <td>MARITIMA</td>\n",
              "      <td>0317900</td>\n",
              "      <td>42</td>\n",
              "      <td>149780</td>\n",
              "      <td>50032</td>\n",
              "      <td>NaN</td>\n",
              "      <td>NaN</td>\n",
              "    </tr>\n",
              "    <tr>\n",
              "      <th>79992</th>\n",
              "      <td>EXP</td>\n",
              "      <td>2023</td>\n",
              "      <td>03</td>\n",
              "      <td>25181000</td>\n",
              "      <td>251810</td>\n",
              "      <td>25</td>\n",
              "      <td>V</td>\n",
              "      <td>Produtos minerais</td>\n",
              "      <td>Dolomita não calcinada nem sinterizada, denomi...</td>\n",
              "      <td>KGL</td>\n",
              "      <td>BOL</td>\n",
              "      <td>Bolívia</td>\n",
              "      <td>SP</td>\n",
              "      <td>RODOVIARIA</td>\n",
              "      <td>0147600</td>\n",
              "      <td>9000</td>\n",
              "      <td>9000</td>\n",
              "      <td>1931</td>\n",
              "      <td>NaN</td>\n",
              "      <td>NaN</td>\n",
              "    </tr>\n",
              "    <tr>\n",
              "      <th>79993</th>\n",
              "      <td>EXP</td>\n",
              "      <td>2023</td>\n",
              "      <td>03</td>\n",
              "      <td>25181000</td>\n",
              "      <td>251810</td>\n",
              "      <td>25</td>\n",
              "      <td>V</td>\n",
              "      <td>Produtos minerais</td>\n",
              "      <td>Dolomita não calcinada nem sinterizada, denomi...</td>\n",
              "      <td>KGL</td>\n",
              "      <td>ITA</td>\n",
              "      <td>Itália</td>\n",
              "      <td>ES</td>\n",
              "      <td>MARITIMA</td>\n",
              "      <td>0727600</td>\n",
              "      <td>209140</td>\n",
              "      <td>209140</td>\n",
              "      <td>97597</td>\n",
              "      <td>NaN</td>\n",
              "      <td>NaN</td>\n",
              "    </tr>\n",
              "    <tr>\n",
              "      <th>79994</th>\n",
              "      <td>EXP</td>\n",
              "      <td>2023</td>\n",
              "      <td>03</td>\n",
              "      <td>25181000</td>\n",
              "      <td>251810</td>\n",
              "      <td>25</td>\n",
              "      <td>V</td>\n",
              "      <td>Produtos minerais</td>\n",
              "      <td>Dolomita não calcinada nem sinterizada, denomi...</td>\n",
              "      <td>KGL</td>\n",
              "      <td>PRY</td>\n",
              "      <td>Paraguai</td>\n",
              "      <td>PR</td>\n",
              "      <td>RODOVIARIA</td>\n",
              "      <td>0147700</td>\n",
              "      <td>7072000</td>\n",
              "      <td>7072000</td>\n",
              "      <td>152959</td>\n",
              "      <td>NaN</td>\n",
              "      <td>NaN</td>\n",
              "    </tr>\n",
              "    <tr>\n",
              "      <th>79995</th>\n",
              "      <td>EXP</td>\n",
              "      <td>2023</td>\n",
              "      <td>03</td>\n",
              "      <td>25181000</td>\n",
              "      <td>251810</td>\n",
              "      <td>25</td>\n",
              "      <td>V</td>\n",
              "      <td>Produtos minerais</td>\n",
              "      <td>Dolomita não calcinada nem sinterizada, denomi...</td>\n",
              "      <td>KGL</td>\n",
              "      <td>PRY</td>\n",
              "      <td>Paraguai</td>\n",
              "      <td>PR</td>\n",
              "      <td>RODOVIARIA</td>\n",
              "      <td>0147800</td>\n",
              "      <td>32000</td>\n",
              "      <td>32000</td>\n",
              "      <td>1066</td>\n",
              "      <td>NaN</td>\n",
              "      <td>NaN</td>\n",
              "    </tr>\n",
              "    <tr>\n",
              "      <th>79996</th>\n",
              "      <td>EXP</td>\n",
              "      <td>2023</td>\n",
              "      <td>03</td>\n",
              "      <td>25181000</td>\n",
              "      <td>251810</td>\n",
              "      <td>25</td>\n",
              "      <td>V</td>\n",
              "      <td>Produtos minerais</td>\n",
              "      <td>Dolomita não calcinada nem sinterizada, denomi...</td>\n",
              "      <td>KGL</td>\n",
              "      <td>URY</td>\n",
              "      <td>Uruguai</td>\n",
              "      <td>PR</td>\n",
              "      <td>RODOVIARIA</td>\n",
              "      <td>1017701</td>\n",
              "      <td>68750</td>\n",
              "      <td>68750</td>\n",
              "      <td>3578</td>\n",
              "      <td>NaN</td>\n",
              "      <td>NaN</td>\n",
              "    </tr>\n",
              "    <tr>\n",
              "      <th>79997</th>\n",
              "      <td>EXP</td>\n",
              "      <td>2023</td>\n",
              "      <td>03</td>\n",
              "      <td>25181000</td>\n",
              "      <td>251810</td>\n",
              "      <td>25</td>\n",
              "      <td>V</td>\n",
              "      <td>Produtos minerais</td>\n",
              "      <td>Dolomita não calcinada nem sinterizada, denomi...</td>\n",
              "      <td>KGL</td>\n",
              "      <td>URY</td>\n",
              "      <td>Uruguai</td>\n",
              "      <td>RS</td>\n",
              "      <td>RODOVIARIA</td>\n",
              "      <td>1010253</td>\n",
              "      <td>1311800</td>\n",
              "      <td>1311800</td>\n",
              "      <td>24312</td>\n",
              "      <td>NaN</td>\n",
              "      <td>NaN</td>\n",
              "    </tr>\n",
              "    <tr>\n",
              "      <th>79998</th>\n",
              "      <td>EXP</td>\n",
              "      <td>2023</td>\n",
              "      <td>03</td>\n",
              "      <td>25181000</td>\n",
              "      <td>251810</td>\n",
              "      <td>25</td>\n",
              "      <td>V</td>\n",
              "      <td>Produtos minerais</td>\n",
              "      <td>Dolomita não calcinada nem sinterizada, denomi...</td>\n",
              "      <td>KGL</td>\n",
              "      <td>USA</td>\n",
              "      <td>Estados Unidos</td>\n",
              "      <td>CE</td>\n",
              "      <td>AEREA</td>\n",
              "      <td>0817700</td>\n",
              "      <td>1</td>\n",
              "      <td>1</td>\n",
              "      <td>5</td>\n",
              "      <td>NaN</td>\n",
              "      <td>NaN</td>\n",
              "    </tr>\n",
              "    <tr>\n",
              "      <th>79999</th>\n",
              "      <td>EXP</td>\n",
              "      <td>2023</td>\n",
              "      <td>03</td>\n",
              "      <td>30061010</td>\n",
              "      <td>300610</td>\n",
              "      <td>30</td>\n",
              "      <td>VI</td>\n",
              "      <td>Produtos das indústrias químicas ou indústrias...</td>\n",
              "      <td>Materiais para suturas cirúrgicas, de polidiex...</td>\n",
              "      <td>KGL</td>\n",
              "      <td>MEX</td>\n",
              "      <td>México</td>\n",
              "      <td>MG</td>\n",
              "      <td>AEREA</td>\n",
              "      <td>0817700</td>\n",
              "      <td>338</td>\n",
              "      <td>338</td>\n",
              "      <td>25859</td>\n",
              "      <td>NaN</td>\n",
              "      <td>NaN</td>\n",
              "    </tr>\n",
              "  </tbody>\n",
              "</table>\n",
              "</div>\n",
              "      <button class=\"colab-df-convert\" onclick=\"convertToInteractive('df-e3bb7b6d-8149-4646-b7e4-2a959b00803e')\"\n",
              "              title=\"Convert this dataframe to an interactive table.\"\n",
              "              style=\"display:none;\">\n",
              "        \n",
              "  <svg xmlns=\"http://www.w3.org/2000/svg\" height=\"24px\"viewBox=\"0 0 24 24\"\n",
              "       width=\"24px\">\n",
              "    <path d=\"M0 0h24v24H0V0z\" fill=\"none\"/>\n",
              "    <path d=\"M18.56 5.44l.94 2.06.94-2.06 2.06-.94-2.06-.94-.94-2.06-.94 2.06-2.06.94zm-11 1L8.5 8.5l.94-2.06 2.06-.94-2.06-.94L8.5 2.5l-.94 2.06-2.06.94zm10 10l.94 2.06.94-2.06 2.06-.94-2.06-.94-.94-2.06-.94 2.06-2.06.94z\"/><path d=\"M17.41 7.96l-1.37-1.37c-.4-.4-.92-.59-1.43-.59-.52 0-1.04.2-1.43.59L10.3 9.45l-7.72 7.72c-.78.78-.78 2.05 0 2.83L4 21.41c.39.39.9.59 1.41.59.51 0 1.02-.2 1.41-.59l7.78-7.78 2.81-2.81c.8-.78.8-2.07 0-2.86zM5.41 20L4 18.59l7.72-7.72 1.47 1.35L5.41 20z\"/>\n",
              "  </svg>\n",
              "      </button>\n",
              "      \n",
              "  <style>\n",
              "    .colab-df-container {\n",
              "      display:flex;\n",
              "      flex-wrap:wrap;\n",
              "      gap: 12px;\n",
              "    }\n",
              "\n",
              "    .colab-df-convert {\n",
              "      background-color: #E8F0FE;\n",
              "      border: none;\n",
              "      border-radius: 50%;\n",
              "      cursor: pointer;\n",
              "      display: none;\n",
              "      fill: #1967D2;\n",
              "      height: 32px;\n",
              "      padding: 0 0 0 0;\n",
              "      width: 32px;\n",
              "    }\n",
              "\n",
              "    .colab-df-convert:hover {\n",
              "      background-color: #E2EBFA;\n",
              "      box-shadow: 0px 1px 2px rgba(60, 64, 67, 0.3), 0px 1px 3px 1px rgba(60, 64, 67, 0.15);\n",
              "      fill: #174EA6;\n",
              "    }\n",
              "\n",
              "    [theme=dark] .colab-df-convert {\n",
              "      background-color: #3B4455;\n",
              "      fill: #D2E3FC;\n",
              "    }\n",
              "\n",
              "    [theme=dark] .colab-df-convert:hover {\n",
              "      background-color: #434B5C;\n",
              "      box-shadow: 0px 1px 3px 1px rgba(0, 0, 0, 0.15);\n",
              "      filter: drop-shadow(0px 1px 2px rgba(0, 0, 0, 0.3));\n",
              "      fill: #FFFFFF;\n",
              "    }\n",
              "  </style>\n",
              "\n",
              "      <script>\n",
              "        const buttonEl =\n",
              "          document.querySelector('#df-e3bb7b6d-8149-4646-b7e4-2a959b00803e button.colab-df-convert');\n",
              "        buttonEl.style.display =\n",
              "          google.colab.kernel.accessAllowed ? 'block' : 'none';\n",
              "\n",
              "        async function convertToInteractive(key) {\n",
              "          const element = document.querySelector('#df-e3bb7b6d-8149-4646-b7e4-2a959b00803e');\n",
              "          const dataTable =\n",
              "            await google.colab.kernel.invokeFunction('convertToInteractive',\n",
              "                                                     [key], {});\n",
              "          if (!dataTable) return;\n",
              "\n",
              "          const docLinkHtml = 'Like what you see? Visit the ' +\n",
              "            '<a target=\"_blank\" href=https://colab.research.google.com/notebooks/data_table.ipynb>data table notebook</a>'\n",
              "            + ' to learn more about interactive tables.';\n",
              "          element.innerHTML = '';\n",
              "          dataTable['output_type'] = 'display_data';\n",
              "          await google.colab.output.renderOutput(dataTable, element);\n",
              "          const docLink = document.createElement('div');\n",
              "          docLink.innerHTML = docLinkHtml;\n",
              "          element.appendChild(docLink);\n",
              "        }\n",
              "      </script>\n",
              "    </div>\n",
              "  </div>\n",
              "  "
            ]
          },
          "metadata": {},
          "execution_count": 5
        }
      ],
      "source": [
        "# Exibe as últimas 10 linhas \n",
        "dfImpExp.tail(n=10)\n"
      ]
    },
    {
      "cell_type": "code",
      "execution_count": 6,
      "metadata": {
        "colab": {
          "base_uri": "https://localhost:8080/"
        },
        "id": "g6w_7VgEj1ta",
        "outputId": "c632059a-3345-4375-841c-b86cc4f99a6a"
      },
      "outputs": [
        {
          "output_type": "execute_result",
          "data": {
            "text/plain": [
              "CO_TIPO           object\n",
              "CO_ANO            object\n",
              "CO_MES            object\n",
              "CO_NCM            object\n",
              "CO_SH6            object\n",
              "CO_SH2            object\n",
              "CO_NCM_SECAO      object\n",
              "NO_SECAO_PT       object\n",
              "NO_NCM_PT         object\n",
              "SG_UNID           object\n",
              "CO_PAIS_ISOA3     object\n",
              "NO_PAIS           object\n",
              "SG_UF_NCM         object\n",
              "NO_VIA            object\n",
              "CO_URF            object\n",
              "QT_ESTAT           int64\n",
              "KG_LIQUIDO         int64\n",
              "VL_FOB             int64\n",
              "VL_FRETE         float64\n",
              "VL_SEGURO        float64\n",
              "dtype: object"
            ]
          },
          "metadata": {},
          "execution_count": 6
        }
      ],
      "source": [
        "# Exibe o tipo de dado de cada atributo carregado no dataframe\n",
        "dfImpExp.dtypes\n"
      ]
    },
    {
      "cell_type": "code",
      "execution_count": 7,
      "metadata": {
        "colab": {
          "base_uri": "https://localhost:8080/",
          "height": 300
        },
        "id": "l0mCIveMrqOE",
        "outputId": "daac8aab-38b2-484a-a712-b4f531432ad3"
      },
      "outputs": [
        {
          "output_type": "execute_result",
          "data": {
            "text/plain": [
              "           QT_ESTAT    KG_LIQUIDO        VL_FOB      VL_FRETE      VL_SEGURO\n",
              "count  8.000000e+04  8.000000e+04  8.000000e+04  4.000000e+04   40000.000000\n",
              "mean   1.243883e+05  2.866169e+05  2.188566e+05  6.898925e+03     103.881125\n",
              "std    3.967723e+06  1.040454e+07  5.784590e+06  1.099202e+05    2727.756247\n",
              "min    0.000000e+00  0.000000e+00  0.000000e+00  0.000000e+00       0.000000\n",
              "25%    6.000000e+00  6.000000e+00  7.100000e+01  2.000000e+01       0.000000\n",
              "50%    3.900000e+01  4.000000e+01  6.190000e+02  2.230000e+02       1.000000\n",
              "75%    7.500000e+02  6.682500e+02  1.298300e+04  1.538000e+03      13.000000\n",
              "max    6.372334e+08  1.868405e+09  1.035798e+09  1.630304e+07  466180.000000"
            ],
            "text/html": [
              "\n",
              "  <div id=\"df-31f7c037-30a1-46b3-a3c9-d540a90cb5b2\">\n",
              "    <div class=\"colab-df-container\">\n",
              "      <div>\n",
              "<style scoped>\n",
              "    .dataframe tbody tr th:only-of-type {\n",
              "        vertical-align: middle;\n",
              "    }\n",
              "\n",
              "    .dataframe tbody tr th {\n",
              "        vertical-align: top;\n",
              "    }\n",
              "\n",
              "    .dataframe thead th {\n",
              "        text-align: right;\n",
              "    }\n",
              "</style>\n",
              "<table border=\"1\" class=\"dataframe\">\n",
              "  <thead>\n",
              "    <tr style=\"text-align: right;\">\n",
              "      <th></th>\n",
              "      <th>QT_ESTAT</th>\n",
              "      <th>KG_LIQUIDO</th>\n",
              "      <th>VL_FOB</th>\n",
              "      <th>VL_FRETE</th>\n",
              "      <th>VL_SEGURO</th>\n",
              "    </tr>\n",
              "  </thead>\n",
              "  <tbody>\n",
              "    <tr>\n",
              "      <th>count</th>\n",
              "      <td>8.000000e+04</td>\n",
              "      <td>8.000000e+04</td>\n",
              "      <td>8.000000e+04</td>\n",
              "      <td>4.000000e+04</td>\n",
              "      <td>40000.000000</td>\n",
              "    </tr>\n",
              "    <tr>\n",
              "      <th>mean</th>\n",
              "      <td>1.243883e+05</td>\n",
              "      <td>2.866169e+05</td>\n",
              "      <td>2.188566e+05</td>\n",
              "      <td>6.898925e+03</td>\n",
              "      <td>103.881125</td>\n",
              "    </tr>\n",
              "    <tr>\n",
              "      <th>std</th>\n",
              "      <td>3.967723e+06</td>\n",
              "      <td>1.040454e+07</td>\n",
              "      <td>5.784590e+06</td>\n",
              "      <td>1.099202e+05</td>\n",
              "      <td>2727.756247</td>\n",
              "    </tr>\n",
              "    <tr>\n",
              "      <th>min</th>\n",
              "      <td>0.000000e+00</td>\n",
              "      <td>0.000000e+00</td>\n",
              "      <td>0.000000e+00</td>\n",
              "      <td>0.000000e+00</td>\n",
              "      <td>0.000000</td>\n",
              "    </tr>\n",
              "    <tr>\n",
              "      <th>25%</th>\n",
              "      <td>6.000000e+00</td>\n",
              "      <td>6.000000e+00</td>\n",
              "      <td>7.100000e+01</td>\n",
              "      <td>2.000000e+01</td>\n",
              "      <td>0.000000</td>\n",
              "    </tr>\n",
              "    <tr>\n",
              "      <th>50%</th>\n",
              "      <td>3.900000e+01</td>\n",
              "      <td>4.000000e+01</td>\n",
              "      <td>6.190000e+02</td>\n",
              "      <td>2.230000e+02</td>\n",
              "      <td>1.000000</td>\n",
              "    </tr>\n",
              "    <tr>\n",
              "      <th>75%</th>\n",
              "      <td>7.500000e+02</td>\n",
              "      <td>6.682500e+02</td>\n",
              "      <td>1.298300e+04</td>\n",
              "      <td>1.538000e+03</td>\n",
              "      <td>13.000000</td>\n",
              "    </tr>\n",
              "    <tr>\n",
              "      <th>max</th>\n",
              "      <td>6.372334e+08</td>\n",
              "      <td>1.868405e+09</td>\n",
              "      <td>1.035798e+09</td>\n",
              "      <td>1.630304e+07</td>\n",
              "      <td>466180.000000</td>\n",
              "    </tr>\n",
              "  </tbody>\n",
              "</table>\n",
              "</div>\n",
              "      <button class=\"colab-df-convert\" onclick=\"convertToInteractive('df-31f7c037-30a1-46b3-a3c9-d540a90cb5b2')\"\n",
              "              title=\"Convert this dataframe to an interactive table.\"\n",
              "              style=\"display:none;\">\n",
              "        \n",
              "  <svg xmlns=\"http://www.w3.org/2000/svg\" height=\"24px\"viewBox=\"0 0 24 24\"\n",
              "       width=\"24px\">\n",
              "    <path d=\"M0 0h24v24H0V0z\" fill=\"none\"/>\n",
              "    <path d=\"M18.56 5.44l.94 2.06.94-2.06 2.06-.94-2.06-.94-.94-2.06-.94 2.06-2.06.94zm-11 1L8.5 8.5l.94-2.06 2.06-.94-2.06-.94L8.5 2.5l-.94 2.06-2.06.94zm10 10l.94 2.06.94-2.06 2.06-.94-2.06-.94-.94-2.06-.94 2.06-2.06.94z\"/><path d=\"M17.41 7.96l-1.37-1.37c-.4-.4-.92-.59-1.43-.59-.52 0-1.04.2-1.43.59L10.3 9.45l-7.72 7.72c-.78.78-.78 2.05 0 2.83L4 21.41c.39.39.9.59 1.41.59.51 0 1.02-.2 1.41-.59l7.78-7.78 2.81-2.81c.8-.78.8-2.07 0-2.86zM5.41 20L4 18.59l7.72-7.72 1.47 1.35L5.41 20z\"/>\n",
              "  </svg>\n",
              "      </button>\n",
              "      \n",
              "  <style>\n",
              "    .colab-df-container {\n",
              "      display:flex;\n",
              "      flex-wrap:wrap;\n",
              "      gap: 12px;\n",
              "    }\n",
              "\n",
              "    .colab-df-convert {\n",
              "      background-color: #E8F0FE;\n",
              "      border: none;\n",
              "      border-radius: 50%;\n",
              "      cursor: pointer;\n",
              "      display: none;\n",
              "      fill: #1967D2;\n",
              "      height: 32px;\n",
              "      padding: 0 0 0 0;\n",
              "      width: 32px;\n",
              "    }\n",
              "\n",
              "    .colab-df-convert:hover {\n",
              "      background-color: #E2EBFA;\n",
              "      box-shadow: 0px 1px 2px rgba(60, 64, 67, 0.3), 0px 1px 3px 1px rgba(60, 64, 67, 0.15);\n",
              "      fill: #174EA6;\n",
              "    }\n",
              "\n",
              "    [theme=dark] .colab-df-convert {\n",
              "      background-color: #3B4455;\n",
              "      fill: #D2E3FC;\n",
              "    }\n",
              "\n",
              "    [theme=dark] .colab-df-convert:hover {\n",
              "      background-color: #434B5C;\n",
              "      box-shadow: 0px 1px 3px 1px rgba(0, 0, 0, 0.15);\n",
              "      filter: drop-shadow(0px 1px 2px rgba(0, 0, 0, 0.3));\n",
              "      fill: #FFFFFF;\n",
              "    }\n",
              "  </style>\n",
              "\n",
              "      <script>\n",
              "        const buttonEl =\n",
              "          document.querySelector('#df-31f7c037-30a1-46b3-a3c9-d540a90cb5b2 button.colab-df-convert');\n",
              "        buttonEl.style.display =\n",
              "          google.colab.kernel.accessAllowed ? 'block' : 'none';\n",
              "\n",
              "        async function convertToInteractive(key) {\n",
              "          const element = document.querySelector('#df-31f7c037-30a1-46b3-a3c9-d540a90cb5b2');\n",
              "          const dataTable =\n",
              "            await google.colab.kernel.invokeFunction('convertToInteractive',\n",
              "                                                     [key], {});\n",
              "          if (!dataTable) return;\n",
              "\n",
              "          const docLinkHtml = 'Like what you see? Visit the ' +\n",
              "            '<a target=\"_blank\" href=https://colab.research.google.com/notebooks/data_table.ipynb>data table notebook</a>'\n",
              "            + ' to learn more about interactive tables.';\n",
              "          element.innerHTML = '';\n",
              "          dataTable['output_type'] = 'display_data';\n",
              "          await google.colab.output.renderOutput(dataTable, element);\n",
              "          const docLink = document.createElement('div');\n",
              "          docLink.innerHTML = docLinkHtml;\n",
              "          element.appendChild(docLink);\n",
              "        }\n",
              "      </script>\n",
              "    </div>\n",
              "  </div>\n",
              "  "
            ]
          },
          "metadata": {},
          "execution_count": 7
        }
      ],
      "source": [
        "# Faz um resumo estatístico do dataframe (média, desvio padrão, mínimo, \n",
        "# máximo e os quartis)\n",
        "dfImpExp.describe()\n"
      ]
    },
    {
      "cell_type": "markdown",
      "metadata": {
        "id": "iQt8sbH59r7b"
      },
      "source": [
        "Propositalmente foi deixado o atributo [VL_FOB] como int durante a carga\n",
        "inicial. O valor será convertido para float para ficar mais coerente. "
      ]
    },
    {
      "cell_type": "code",
      "execution_count": 8,
      "metadata": {
        "id": "rbTAlN6Zlpbq"
      },
      "outputs": [],
      "source": [
        "# Convertendo a coluna para a tipagem correta\n",
        "dfImpExp[\"VL_FOB\"] = dfImpExp[\"VL_FOB\"].astype(float)\n"
      ]
    },
    {
      "cell_type": "code",
      "execution_count": 9,
      "metadata": {
        "colab": {
          "base_uri": "https://localhost:8080/"
        },
        "id": "ChXznJOPoBlk",
        "outputId": "6821e9a7-84b6-4d3a-b507-8958b09e1dbf"
      },
      "outputs": [
        {
          "output_type": "execute_result",
          "data": {
            "text/plain": [
              "CO_TIPO           object\n",
              "CO_ANO            object\n",
              "CO_MES            object\n",
              "CO_NCM            object\n",
              "CO_SH6            object\n",
              "CO_SH2            object\n",
              "CO_NCM_SECAO      object\n",
              "NO_SECAO_PT       object\n",
              "NO_NCM_PT         object\n",
              "SG_UNID           object\n",
              "CO_PAIS_ISOA3     object\n",
              "NO_PAIS           object\n",
              "SG_UF_NCM         object\n",
              "NO_VIA            object\n",
              "CO_URF            object\n",
              "QT_ESTAT           int64\n",
              "KG_LIQUIDO         int64\n",
              "VL_FOB           float64\n",
              "VL_FRETE         float64\n",
              "VL_SEGURO        float64\n",
              "dtype: object"
            ]
          },
          "metadata": {},
          "execution_count": 9
        }
      ],
      "source": [
        "# Exibe o tipo de dado de cada atributo carregado no dataframe após a alteração\n",
        "dfImpExp.dtypes\n"
      ]
    },
    {
      "cell_type": "markdown",
      "metadata": {
        "id": "Gpn7aCmQ_IG8"
      },
      "source": [
        "Com os dados agora tipados de forma correta, podemos fazer uma descrição estatística mais coerente."
      ]
    },
    {
      "cell_type": "code",
      "execution_count": 10,
      "metadata": {
        "colab": {
          "base_uri": "https://localhost:8080/",
          "height": 300
        },
        "id": "PzSu0fj-_bEb",
        "outputId": "74311267-59d7-41e0-d899-01e8539669f7"
      },
      "outputs": [
        {
          "output_type": "execute_result",
          "data": {
            "text/plain": [
              "           QT_ESTAT    KG_LIQUIDO        VL_FOB      VL_FRETE      VL_SEGURO\n",
              "count  8.000000e+04  8.000000e+04  8.000000e+04  4.000000e+04   40000.000000\n",
              "mean   1.243883e+05  2.866169e+05  2.188566e+05  6.898925e+03     103.881125\n",
              "std    3.967723e+06  1.040454e+07  5.784590e+06  1.099202e+05    2727.756247\n",
              "min    0.000000e+00  0.000000e+00  0.000000e+00  0.000000e+00       0.000000\n",
              "25%    6.000000e+00  6.000000e+00  7.100000e+01  2.000000e+01       0.000000\n",
              "50%    3.900000e+01  4.000000e+01  6.190000e+02  2.230000e+02       1.000000\n",
              "75%    7.500000e+02  6.682500e+02  1.298300e+04  1.538000e+03      13.000000\n",
              "max    6.372334e+08  1.868405e+09  1.035798e+09  1.630304e+07  466180.000000"
            ],
            "text/html": [
              "\n",
              "  <div id=\"df-068f27f6-68bc-40e7-9962-bd0e4270f1bf\">\n",
              "    <div class=\"colab-df-container\">\n",
              "      <div>\n",
              "<style scoped>\n",
              "    .dataframe tbody tr th:only-of-type {\n",
              "        vertical-align: middle;\n",
              "    }\n",
              "\n",
              "    .dataframe tbody tr th {\n",
              "        vertical-align: top;\n",
              "    }\n",
              "\n",
              "    .dataframe thead th {\n",
              "        text-align: right;\n",
              "    }\n",
              "</style>\n",
              "<table border=\"1\" class=\"dataframe\">\n",
              "  <thead>\n",
              "    <tr style=\"text-align: right;\">\n",
              "      <th></th>\n",
              "      <th>QT_ESTAT</th>\n",
              "      <th>KG_LIQUIDO</th>\n",
              "      <th>VL_FOB</th>\n",
              "      <th>VL_FRETE</th>\n",
              "      <th>VL_SEGURO</th>\n",
              "    </tr>\n",
              "  </thead>\n",
              "  <tbody>\n",
              "    <tr>\n",
              "      <th>count</th>\n",
              "      <td>8.000000e+04</td>\n",
              "      <td>8.000000e+04</td>\n",
              "      <td>8.000000e+04</td>\n",
              "      <td>4.000000e+04</td>\n",
              "      <td>40000.000000</td>\n",
              "    </tr>\n",
              "    <tr>\n",
              "      <th>mean</th>\n",
              "      <td>1.243883e+05</td>\n",
              "      <td>2.866169e+05</td>\n",
              "      <td>2.188566e+05</td>\n",
              "      <td>6.898925e+03</td>\n",
              "      <td>103.881125</td>\n",
              "    </tr>\n",
              "    <tr>\n",
              "      <th>std</th>\n",
              "      <td>3.967723e+06</td>\n",
              "      <td>1.040454e+07</td>\n",
              "      <td>5.784590e+06</td>\n",
              "      <td>1.099202e+05</td>\n",
              "      <td>2727.756247</td>\n",
              "    </tr>\n",
              "    <tr>\n",
              "      <th>min</th>\n",
              "      <td>0.000000e+00</td>\n",
              "      <td>0.000000e+00</td>\n",
              "      <td>0.000000e+00</td>\n",
              "      <td>0.000000e+00</td>\n",
              "      <td>0.000000</td>\n",
              "    </tr>\n",
              "    <tr>\n",
              "      <th>25%</th>\n",
              "      <td>6.000000e+00</td>\n",
              "      <td>6.000000e+00</td>\n",
              "      <td>7.100000e+01</td>\n",
              "      <td>2.000000e+01</td>\n",
              "      <td>0.000000</td>\n",
              "    </tr>\n",
              "    <tr>\n",
              "      <th>50%</th>\n",
              "      <td>3.900000e+01</td>\n",
              "      <td>4.000000e+01</td>\n",
              "      <td>6.190000e+02</td>\n",
              "      <td>2.230000e+02</td>\n",
              "      <td>1.000000</td>\n",
              "    </tr>\n",
              "    <tr>\n",
              "      <th>75%</th>\n",
              "      <td>7.500000e+02</td>\n",
              "      <td>6.682500e+02</td>\n",
              "      <td>1.298300e+04</td>\n",
              "      <td>1.538000e+03</td>\n",
              "      <td>13.000000</td>\n",
              "    </tr>\n",
              "    <tr>\n",
              "      <th>max</th>\n",
              "      <td>6.372334e+08</td>\n",
              "      <td>1.868405e+09</td>\n",
              "      <td>1.035798e+09</td>\n",
              "      <td>1.630304e+07</td>\n",
              "      <td>466180.000000</td>\n",
              "    </tr>\n",
              "  </tbody>\n",
              "</table>\n",
              "</div>\n",
              "      <button class=\"colab-df-convert\" onclick=\"convertToInteractive('df-068f27f6-68bc-40e7-9962-bd0e4270f1bf')\"\n",
              "              title=\"Convert this dataframe to an interactive table.\"\n",
              "              style=\"display:none;\">\n",
              "        \n",
              "  <svg xmlns=\"http://www.w3.org/2000/svg\" height=\"24px\"viewBox=\"0 0 24 24\"\n",
              "       width=\"24px\">\n",
              "    <path d=\"M0 0h24v24H0V0z\" fill=\"none\"/>\n",
              "    <path d=\"M18.56 5.44l.94 2.06.94-2.06 2.06-.94-2.06-.94-.94-2.06-.94 2.06-2.06.94zm-11 1L8.5 8.5l.94-2.06 2.06-.94-2.06-.94L8.5 2.5l-.94 2.06-2.06.94zm10 10l.94 2.06.94-2.06 2.06-.94-2.06-.94-.94-2.06-.94 2.06-2.06.94z\"/><path d=\"M17.41 7.96l-1.37-1.37c-.4-.4-.92-.59-1.43-.59-.52 0-1.04.2-1.43.59L10.3 9.45l-7.72 7.72c-.78.78-.78 2.05 0 2.83L4 21.41c.39.39.9.59 1.41.59.51 0 1.02-.2 1.41-.59l7.78-7.78 2.81-2.81c.8-.78.8-2.07 0-2.86zM5.41 20L4 18.59l7.72-7.72 1.47 1.35L5.41 20z\"/>\n",
              "  </svg>\n",
              "      </button>\n",
              "      \n",
              "  <style>\n",
              "    .colab-df-container {\n",
              "      display:flex;\n",
              "      flex-wrap:wrap;\n",
              "      gap: 12px;\n",
              "    }\n",
              "\n",
              "    .colab-df-convert {\n",
              "      background-color: #E8F0FE;\n",
              "      border: none;\n",
              "      border-radius: 50%;\n",
              "      cursor: pointer;\n",
              "      display: none;\n",
              "      fill: #1967D2;\n",
              "      height: 32px;\n",
              "      padding: 0 0 0 0;\n",
              "      width: 32px;\n",
              "    }\n",
              "\n",
              "    .colab-df-convert:hover {\n",
              "      background-color: #E2EBFA;\n",
              "      box-shadow: 0px 1px 2px rgba(60, 64, 67, 0.3), 0px 1px 3px 1px rgba(60, 64, 67, 0.15);\n",
              "      fill: #174EA6;\n",
              "    }\n",
              "\n",
              "    [theme=dark] .colab-df-convert {\n",
              "      background-color: #3B4455;\n",
              "      fill: #D2E3FC;\n",
              "    }\n",
              "\n",
              "    [theme=dark] .colab-df-convert:hover {\n",
              "      background-color: #434B5C;\n",
              "      box-shadow: 0px 1px 3px 1px rgba(0, 0, 0, 0.15);\n",
              "      filter: drop-shadow(0px 1px 2px rgba(0, 0, 0, 0.3));\n",
              "      fill: #FFFFFF;\n",
              "    }\n",
              "  </style>\n",
              "\n",
              "      <script>\n",
              "        const buttonEl =\n",
              "          document.querySelector('#df-068f27f6-68bc-40e7-9962-bd0e4270f1bf button.colab-df-convert');\n",
              "        buttonEl.style.display =\n",
              "          google.colab.kernel.accessAllowed ? 'block' : 'none';\n",
              "\n",
              "        async function convertToInteractive(key) {\n",
              "          const element = document.querySelector('#df-068f27f6-68bc-40e7-9962-bd0e4270f1bf');\n",
              "          const dataTable =\n",
              "            await google.colab.kernel.invokeFunction('convertToInteractive',\n",
              "                                                     [key], {});\n",
              "          if (!dataTable) return;\n",
              "\n",
              "          const docLinkHtml = 'Like what you see? Visit the ' +\n",
              "            '<a target=\"_blank\" href=https://colab.research.google.com/notebooks/data_table.ipynb>data table notebook</a>'\n",
              "            + ' to learn more about interactive tables.';\n",
              "          element.innerHTML = '';\n",
              "          dataTable['output_type'] = 'display_data';\n",
              "          await google.colab.output.renderOutput(dataTable, element);\n",
              "          const docLink = document.createElement('div');\n",
              "          docLink.innerHTML = docLinkHtml;\n",
              "          element.appendChild(docLink);\n",
              "        }\n",
              "      </script>\n",
              "    </div>\n",
              "  </div>\n",
              "  "
            ]
          },
          "metadata": {},
          "execution_count": 10
        }
      ],
      "source": [
        "# Faz um resumo estatístico do dataframe (média, desvio padrão, mínimo, \n",
        "# máximo e os quartis)\n",
        "dfImpExp.describe()\n"
      ]
    },
    {
      "cell_type": "code",
      "execution_count": 11,
      "metadata": {
        "colab": {
          "base_uri": "https://localhost:8080/"
        },
        "id": "IT1ksmTj1PVi",
        "outputId": "24aaf6d1-53cd-4b60-afb8-0f9f06bfc941"
      },
      "outputs": [
        {
          "output_type": "execute_result",
          "data": {
            "text/plain": [
              "CO_TIPO\n",
              "EXP    40000\n",
              "IMP    40000\n",
              "dtype: int64"
            ]
          },
          "metadata": {},
          "execution_count": 11
        }
      ],
      "source": [
        "# Verifica a distribuição de classes (importação e exportação)\n",
        "# Considerando que o dataset foi extraído e equilibrado em número de transações\n",
        "# (não valores), a distribuição de classes utilizando o atributo [CO_TIPO] que \n",
        "# indica que foi importação e exportação está balanceada\n",
        "\n",
        "dfImpExp.groupby('CO_TIPO').size()\n"
      ]
    },
    {
      "cell_type": "markdown",
      "metadata": {
        "id": "kJoPR5mvQfyo"
      },
      "source": [
        "Considerando que o dataset foi extraído e equilibrado em número de transações\n",
        "(não valores), a distribuição de classes utilizando o atributo [CO_TIPO] que\n",
        "indica que foi importação e exportação está equilibrado."
      ]
    },
    {
      "cell_type": "code",
      "source": [
        "# Visualizando a frequência de dados de alguns atributos chaves que serão \n",
        "# utilizados para análise desse dataset\n",
        "\n",
        "print(dfImpExp['CO_TIPO'].value_counts())\n"
      ],
      "metadata": {
        "colab": {
          "base_uri": "https://localhost:8080/"
        },
        "id": "Fqmbo4_2ud3s",
        "outputId": "4427da8c-3846-4ca0-d5f3-63add2460817"
      },
      "execution_count": 12,
      "outputs": [
        {
          "output_type": "stream",
          "name": "stdout",
          "text": [
            "IMP    40000\n",
            "EXP    40000\n",
            "Name: CO_TIPO, dtype: int64\n"
          ]
        }
      ]
    },
    {
      "cell_type": "code",
      "source": [
        "print(dfImpExp['CO_NCM_SECAO'].value_counts())\n"
      ],
      "metadata": {
        "colab": {
          "base_uri": "https://localhost:8080/"
        },
        "id": "01ZLKcGAwDPW",
        "outputId": "a730796d-e5ee-4a9f-bd03-ae9523bdaa75"
      },
      "execution_count": 13,
      "outputs": [
        {
          "output_type": "stream",
          "name": "stdout",
          "text": [
            "II       16287\n",
            "XVI      15884\n",
            "IV       14096\n",
            "I         9003\n",
            "XV        5043\n",
            "VI        4177\n",
            "VII       3982\n",
            "XVIII     2900\n",
            "XI        2032\n",
            "XVII      1574\n",
            "III       1260\n",
            "XX         887\n",
            "XIII       846\n",
            "V          657\n",
            "X          605\n",
            "VIII       304\n",
            "XII        244\n",
            "IX         121\n",
            "XIV         77\n",
            "XIX         19\n",
            "XXI          2\n",
            "Name: CO_NCM_SECAO, dtype: int64\n"
          ]
        }
      ]
    },
    {
      "cell_type": "code",
      "source": [
        "print(dfImpExp['NO_SECAO_PT'].value_counts())\n"
      ],
      "metadata": {
        "colab": {
          "base_uri": "https://localhost:8080/"
        },
        "id": "Ia3SGfQcwuc4",
        "outputId": "75e007ec-1b94-4b4a-c64a-d06a0f4c524f"
      },
      "execution_count": 14,
      "outputs": [
        {
          "output_type": "stream",
          "name": "stdout",
          "text": [
            "Produtos do reino vegetal                                                                                                                                                                                                          16287\n",
            "Máquinas e aparelhos, material elétrico e suas partes; Aparelhos de gravação ou reprodução de som, aparelhos de gravação ou reprodução de imagens e de som em televisão, e suas partes e acessórios                                15884\n",
            "Produtos das indútrias alimentares; Bebidas, líquidos alcoólicos e vinagres; Tabaco e seus sucedâneos manufaturados                                                                                                                14096\n",
            "Animais vivos e produtos do reino animal                                                                                                                                                                                            9003\n",
            "Metais comuns e suas obras                                                                                                                                                                                                          5043\n",
            "Produtos das indústrias químicas ou indústrias conexas                                                                                                                                                                              4177\n",
            "Plásticos e suas obras; Borracha e suas obras                                                                                                                                                                                       3982\n",
            "Instrumentos e aparelhos de ótica, fotografia ou cinematografia, medida, controle ou de precisão; Instrumentos e aparelhos médico-cirúrgicos; Relógios e aparelhos semelhantes; Instrumentos musicais; Suas partes e acessórios     2900\n",
            "Matérias têxteis e suas obras                                                                                                                                                                                                       2032\n",
            "Material de transporte                                                                                                                                                                                                              1574\n",
            "Gorduras e óleos animais ou vegetais; Produtos da sua dossociação; Gorduras alimentares elaboradas; Ceras de origem animal ou vegetal                                                                                               1260\n",
            "Mercadorias e produtos diversos                                                                                                                                                                                                      887\n",
            "Obras de pedra, gesso, cimento, amianto, mica ou de matérias semelhantes; Produtos cerâmicos; Vidro e suas obras                                                                                                                     846\n",
            "Produtos minerais                                                                                                                                                                                                                    657\n",
            "Pastas de madeira ou de outras matérias fibrosas celulósicas; Papel ou cartão para reciclar (desperdícios e aparas); Papel e suas obras                                                                                              605\n",
            "Peles, couros, peles com pelo e obras destas matérias; Artigos de correeiro ou de seleiro; Artigos de viagem, bolsas e artefatos semelhantes; Obras de tripa                                                                         304\n",
            "Calçado, chapéus e artefatos de uso semelhante, guarda-chuvas, guarda-sóis, bengalas, chicotes e suas partes; Penas preparadas e suas obras; Flores artificiais; Obras de cabelo                                                     244\n",
            "Madeira, carvão vegetal e obras de madeira; Cortiça e suas obras; Obras de espartaria ou de cestaria                                                                                                                                 121\n",
            "Pérolas naturais ou cultivadas, pedras preciosas ou semipreciosas e semelhantes, metais preciosos, metais folheados ou chapeados de metais preciosos, e suas obras; Bijuteria; Moedas                                                 77\n",
            "Armas e munições; suas partes e acessórios                                                                                                                                                                                            19\n",
            "Objetos de arte, de coleção e antiguidades                                                                                                                                                                                             2\n",
            "Name: NO_SECAO_PT, dtype: int64\n"
          ]
        }
      ]
    },
    {
      "cell_type": "code",
      "source": [
        "print(dfImpExp['NO_PAIS'].value_counts())\n"
      ],
      "metadata": {
        "colab": {
          "base_uri": "https://localhost:8080/"
        },
        "id": "bpIXslk1w7G6",
        "outputId": "01ac34fe-b875-4e80-e1f0-c58de184c78c"
      },
      "execution_count": 15,
      "outputs": [
        {
          "output_type": "stream",
          "name": "stdout",
          "text": [
            "China                                    8480\n",
            "Estados Unidos                           5568\n",
            "Alemanha                                 4059\n",
            "Marshall, Ilhas                          3757\n",
            "Libéria                                  3420\n",
            "                                         ... \n",
            "Salomão, Ilhas                              1\n",
            "Palau                                       1\n",
            "Território Britânico do Oceano Índico       1\n",
            "Andorra                                     1\n",
            "Virgens, Ilhas (Americanas)                 1\n",
            "Name: NO_PAIS, Length: 208, dtype: int64\n"
          ]
        }
      ]
    },
    {
      "cell_type": "code",
      "source": [
        "print(dfImpExp['SG_UF_NCM'].value_counts())\n"
      ],
      "metadata": {
        "colab": {
          "base_uri": "https://localhost:8080/"
        },
        "id": "HWuIZHaexCLA",
        "outputId": "59d7ee3a-51f9-4e25-80bd-fe67f1f064e9"
      },
      "execution_count": 16,
      "outputs": [
        {
          "output_type": "stream",
          "name": "stdout",
          "text": [
            "SP    24921\n",
            "SC     8566\n",
            "RJ     7733\n",
            "PR     6636\n",
            "RS     5873\n",
            "ES     4374\n",
            "MG     4293\n",
            "AM     2594\n",
            "MA     2443\n",
            "PA     2299\n",
            "BA     2194\n",
            "AL     1976\n",
            "CE     1244\n",
            "GO     1241\n",
            "PE      897\n",
            "MS      448\n",
            "MT      422\n",
            "RO      359\n",
            "AP      353\n",
            "RN      249\n",
            "DF      245\n",
            "PB      157\n",
            "SE      129\n",
            "RR      101\n",
            "TO       93\n",
            "PI       86\n",
            "ND       50\n",
            "AC       24\n",
            "Name: SG_UF_NCM, dtype: int64\n"
          ]
        }
      ]
    },
    {
      "cell_type": "markdown",
      "source": [
        "Na visualização de frequência da UFs, percebe-se uma sigla que não representa\n",
        "oficialmente uma unidade da federação, a sigla \"ND\". Em análise aos documentos\n",
        "da fonte de dados, ficou esclarecido que há outras possibilidades inclusive:\n",
        "\n",
        "*   ND - Não Declarada\n",
        "*   ED - Estados Diversos - Café\n",
        "*   RE - Reexportação\n",
        "*   MN - Mercadoria Nacionalizada\n",
        "*   CB - Consumo de Bordo\n",
        "*   EX - Exterior\n",
        "*   ZN - Zona Não Declarada\n",
        "\n"
      ],
      "metadata": {
        "id": "YU_SM6ESzGIq"
      }
    },
    {
      "cell_type": "code",
      "source": [
        "print(dfImpExp['NO_VIA'].value_counts())\n"
      ],
      "metadata": {
        "colab": {
          "base_uri": "https://localhost:8080/"
        },
        "id": "tkpuFE0BxI4m",
        "outputId": "88056b06-9738-43dd-a990-521f391e5777"
      },
      "execution_count": 17,
      "outputs": [
        {
          "output_type": "stream",
          "name": "stdout",
          "text": [
            "MARITIMA                       55842\n",
            "AEREA                          20934\n",
            "RODOVIARIA                      2569\n",
            "VIA NAO DECLARADA                351\n",
            "ENTRADA/SAIDA FICTA              149\n",
            "VICINAL FRONTEIRICO               86\n",
            "MEIOS PROPRIOS                    36\n",
            "EM MAOS                           26\n",
            "FERROVIARIA                        3\n",
            "POSTAL                             2\n",
            "CONDUTO/REDE DE TRANSMISSAO        1\n",
            "FLUVIAL                            1\n",
            "Name: NO_VIA, dtype: int64\n"
          ]
        }
      ]
    },
    {
      "cell_type": "markdown",
      "metadata": {
        "id": "qzHDLO19x3H0"
      },
      "source": [
        "# 5. Pré-processamento de Dados"
      ]
    },
    {
      "cell_type": "markdown",
      "metadata": {
        "id": "1Lt3DH6NHLmo"
      },
      "source": [
        "### 5.1 Tratamento de missings e limpeza\n"
      ]
    },
    {
      "cell_type": "code",
      "source": [],
      "metadata": {
        "id": "4kxo4K4kxm__"
      },
      "execution_count": 17,
      "outputs": []
    },
    {
      "cell_type": "code",
      "execution_count": 18,
      "metadata": {
        "colab": {
          "base_uri": "https://localhost:8080/"
        },
        "id": "bJx_6Ozx4c48",
        "outputId": "802b21c1-1627-43fe-d507-5f06ce1405e7"
      },
      "outputs": [
        {
          "output_type": "execute_result",
          "data": {
            "text/plain": [
              "CO_TIPO              0\n",
              "CO_ANO               0\n",
              "CO_MES               0\n",
              "CO_NCM               0\n",
              "CO_SH6               0\n",
              "CO_SH2               0\n",
              "CO_NCM_SECAO         0\n",
              "NO_SECAO_PT          0\n",
              "NO_NCM_PT            0\n",
              "SG_UNID              0\n",
              "CO_PAIS_ISOA3        0\n",
              "NO_PAIS              0\n",
              "SG_UF_NCM            0\n",
              "NO_VIA               0\n",
              "CO_URF               0\n",
              "QT_ESTAT             0\n",
              "KG_LIQUIDO           0\n",
              "VL_FOB               0\n",
              "VL_FRETE         40000\n",
              "VL_SEGURO        40000\n",
              "dtype: int64"
            ]
          },
          "metadata": {},
          "execution_count": 18
        }
      ],
      "source": [
        "dfImpExp.isnull().sum()\n"
      ]
    },
    {
      "cell_type": "markdown",
      "metadata": {
        "id": "r0wV7gxHILGC"
      },
      "source": [
        "Analisando o resultado apresentado acima, percebeu-se que o grande número de registros nulos nos atributos VL_FRETE E VL_SEGURO se dá porque eles não são preenchidos quando o [CO_TIPO] = \"Exp\". Para exportação não existe registro de frete e seguro.\n"
      ]
    },
    {
      "cell_type": "code",
      "execution_count": 19,
      "metadata": {
        "colab": {
          "base_uri": "https://localhost:8080/",
          "height": 627
        },
        "id": "kk6ymGd3I5JP",
        "outputId": "b3fae7eb-5439-4173-a54d-5fbdd7e9d1ea"
      },
      "outputs": [
        {
          "output_type": "execute_result",
          "data": {
            "text/plain": [
              "<Axes: >"
            ]
          },
          "metadata": {},
          "execution_count": 19
        },
        {
          "output_type": "display_data",
          "data": {
            "text/plain": [
              "<Figure size 2500x1000 with 2 Axes>"
            ],
            "image/png": "[encoded data removed]"
          },
          "metadata": {}
        }
      ],
      "source": [
        "# Exibindo a matriz de nulidade do dataframe\n",
        "ms.matrix(dfImpExp)\n"
      ]
    },
    {
      "cell_type": "markdown",
      "metadata": {
        "id": "xzq9RIgmKtX3"
      },
      "source": [
        "A matriz acima indica que exatamente a metade dos registros possuem registros nulos nos atributos VL_FRETE e VL_SEGURO, confirmando assim a afirmação que um dos tipos de operação não registra valor para frete e para seguro. Nenhuma ação será adicionada agora, visto que a visualização posterior com o agrupamento de valores por tipo de atividade, será determinante para o restante do trabalho.\n"
      ]
    },
    {
      "cell_type": "markdown",
      "source": [
        "### 5.2 Redução de dimensionalidade\n",
        "#### 5.2.1 Seleção de características\n",
        "Existem muitos atributos que não se fazem necessários nesse estudo. Pensando em\n",
        "uma análise inicial quantitativa, a verificação seguinte indicará qual\n",
        "modalidade será trabalhada para apresentação gráfica. A sequência é para validar\n",
        "se no período (março/2023) tivemos mais exportação ou importação em US$ FOB."
      ],
      "metadata": {
        "id": "wJjFEYbuk0np"
      }
    },
    {
      "cell_type": "code",
      "execution_count": 20,
      "metadata": {
        "colab": {
          "base_uri": "https://localhost:8080/",
          "height": 407
        },
        "id": "-BHXcTIAlinQ",
        "outputId": "73882e01-8965-4492-b4c3-6da536ff2b6c"
      },
      "outputs": [
        {
          "output_type": "display_data",
          "data": {
            "text/plain": [
              "<Figure size 600x400 with 1 Axes>"
            ],
            "image/png": "[encoded data removed]"
          },
          "metadata": {}
        }
      ],
      "source": [
        "dfAgrupado = dfImpExp.groupby('CO_TIPO')['VL_FOB'].sum().reset_index()\n",
        "\n",
        "# Prepara a figura (fig) e a área do gráfico (ax)\n",
        "fig, ax = plt.subplots(figsize = (6, 4))\n",
        "\n",
        "# Plota o gráfico de barras dividindo a soma do valor por 1000000\n",
        "barras = ax.bar(dfAgrupado['CO_TIPO'], dfAgrupado['VL_FOB']/1e6, color='#666666')\n",
        "\n",
        "# Acrescenta um título ao gráfico\n",
        "plt.title('Exportações e Importações Brasileiras - Março/2023')\n",
        "\n",
        "# Define os rótulos dos eixos\n",
        "plt.ylabel('exportação (em milhões US$)') \n",
        "\n",
        "# Ajusta as margens do gráfico (para eliminar margens desnecessárias)\n",
        "plt.tight_layout() \n",
        "\n",
        "barras[0].set_color('#FF8C00')\n",
        "\n",
        "# Exibe o gráfico\n",
        "plt.show()\n"
      ]
    },
    {
      "cell_type": "markdown",
      "source": [
        "No conjunto de dados utilizado, verifica-se que temos mais exportações que importações.\n",
        "\n",
        "Diante dessa ótica, farei uma **análise das exportações** considerando a unidade da federação que mais exporta, qual o principal meio de transporte das exportações, quais as seções envolvidas e qual detem as principais exportações. Sendo assim, farei a remoção de atributos que não serão relevantes nessa análise."
      ],
      "metadata": {
        "id": "VwC0bKbVwmkL"
      }
    },
    {
      "cell_type": "code",
      "source": [
        "# Fechar o escopo da análise somente nas exportações e para isso vou montar \n",
        "# um dataframe apenas com as colunas e linhas que desejo visualizar essas\n",
        "# informações\n",
        "\n",
        "# Criando um dataframe apenas de Exportação\n",
        "dfExp = dfImpExp['CO_TIPO'] == 'EXP'\n",
        "dfExpFiltrado = dfImpExp[dfExp]\n",
        "\n",
        "# Novo dataframe com colunas específicas\n",
        "dfNewExp = dfExpFiltrado.loc[:\n",
        "                             , ['CO_NCM_SECAO'\n",
        "                             , 'NO_SECAO_PT'\n",
        "                             , 'CO_PAIS_ISOA3'\n",
        "                             , 'NO_PAIS'\n",
        "                             , 'SG_UF_NCM'\n",
        "                             , 'NO_VIA'\n",
        "                             , 'VL_FOB']]\n",
        "\n",
        "# Visualiza o novo dataframe\n",
        "print(dfNewExp.head())\n"
      ],
      "metadata": {
        "colab": {
          "base_uri": "https://localhost:8080/"
        },
        "id": "319Q1QkYw1l7",
        "outputId": "04df0997-db00-4b21-af37-eb7ea1bab93f"
      },
      "execution_count": 21,
      "outputs": [
        {
          "output_type": "stream",
          "name": "stdout",
          "text": [
            "      CO_NCM_SECAO                               NO_SECAO_PT CO_PAIS_ISOA3  \\\n",
            "40000            I  Animais vivos e produtos do reino animal           CHE   \n",
            "40001            I  Animais vivos e produtos do reino animal           HKG   \n",
            "40002            I  Animais vivos e produtos do reino animal           NOR   \n",
            "40003            I  Animais vivos e produtos do reino animal           ALB   \n",
            "40004            I  Animais vivos e produtos do reino animal           ARE   \n",
            "\n",
            "                      NO_PAIS SG_UF_NCM    NO_VIA    VL_FOB  \n",
            "40000                   Suíça        MA  MARITIMA     469.0  \n",
            "40001               Hong Kong        MA  MARITIMA      83.0  \n",
            "40002                 Noruega        SP  MARITIMA     212.0  \n",
            "40003                 Albânia        RS  MARITIMA  106310.0  \n",
            "40004  Emirados Árabes Unidos        SC  MARITIMA   17508.0  \n"
          ]
        }
      ]
    },
    {
      "cell_type": "code",
      "execution_count": 22,
      "metadata": {
        "colab": {
          "base_uri": "https://localhost:8080/",
          "height": 631
        },
        "id": "PWoi2UdhX6Gf",
        "outputId": "655a6961-b462-470e-e582-8447ce58e8b1"
      },
      "outputs": [
        {
          "output_type": "execute_result",
          "data": {
            "text/plain": [
              "<Axes: >"
            ]
          },
          "metadata": {},
          "execution_count": 22
        },
        {
          "output_type": "display_data",
          "data": {
            "text/plain": [
              "<Figure size 2500x1000 with 2 Axes>"
            ],
            "image/png": "[encoded data removed]"
          },
          "metadata": {}
        }
      ],
      "source": [
        "# Exibindo a matriz de nulidade do dataframe após exclusão das colunas e linhas\n",
        "ms.matrix(dfNewExp)\n"
      ]
    },
    {
      "cell_type": "code",
      "source": [
        "# Exibindo as primeiras linhas do novo dataframe\n",
        "dfNewExp.head(n=5)"
      ],
      "metadata": {
        "colab": {
          "base_uri": "https://localhost:8080/",
          "height": 206
        },
        "id": "6fBlsXK-wP5_",
        "outputId": "a3c053fa-3dfa-43d9-82e5-83d84f6799a3"
      },
      "execution_count": 23,
      "outputs": [
        {
          "output_type": "execute_result",
          "data": {
            "text/plain": [
              "      CO_NCM_SECAO                               NO_SECAO_PT CO_PAIS_ISOA3  \\\n",
              "40000            I  Animais vivos e produtos do reino animal           CHE   \n",
              "40001            I  Animais vivos e produtos do reino animal           HKG   \n",
              "40002            I  Animais vivos e produtos do reino animal           NOR   \n",
              "40003            I  Animais vivos e produtos do reino animal           ALB   \n",
              "40004            I  Animais vivos e produtos do reino animal           ARE   \n",
              "\n",
              "                      NO_PAIS SG_UF_NCM    NO_VIA    VL_FOB  \n",
              "40000                   Suíça        MA  MARITIMA     469.0  \n",
              "40001               Hong Kong        MA  MARITIMA      83.0  \n",
              "40002                 Noruega        SP  MARITIMA     212.0  \n",
              "40003                 Albânia        RS  MARITIMA  106310.0  \n",
              "40004  Emirados Árabes Unidos        SC  MARITIMA   17508.0  "
            ],
            "text/html": [
              "\n",
              "  <div id=\"df-028bd5b6-ee8a-46fb-bb71-f013d3059ce2\">\n",
              "    <div class=\"colab-df-container\">\n",
              "      <div>\n",
              "<style scoped>\n",
              "    .dataframe tbody tr th:only-of-type {\n",
              "        vertical-align: middle;\n",
              "    }\n",
              "\n",
              "    .dataframe tbody tr th {\n",
              "        vertical-align: top;\n",
              "    }\n",
              "\n",
              "    .dataframe thead th {\n",
              "        text-align: right;\n",
              "    }\n",
              "</style>\n",
              "<table border=\"1\" class=\"dataframe\">\n",
              "  <thead>\n",
              "    <tr style=\"text-align: right;\">\n",
              "      <th></th>\n",
              "      <th>CO_NCM_SECAO</th>\n",
              "      <th>NO_SECAO_PT</th>\n",
              "      <th>CO_PAIS_ISOA3</th>\n",
              "      <th>NO_PAIS</th>\n",
              "      <th>SG_UF_NCM</th>\n",
              "      <th>NO_VIA</th>\n",
              "      <th>VL_FOB</th>\n",
              "    </tr>\n",
              "  </thead>\n",
              "  <tbody>\n",
              "    <tr>\n",
              "      <th>40000</th>\n",
              "      <td>I</td>\n",
              "      <td>Animais vivos e produtos do reino animal</td>\n",
              "      <td>CHE</td>\n",
              "      <td>Suíça</td>\n",
              "      <td>MA</td>\n",
              "      <td>MARITIMA</td>\n",
              "      <td>469.0</td>\n",
              "    </tr>\n",
              "    <tr>\n",
              "      <th>40001</th>\n",
              "      <td>I</td>\n",
              "      <td>Animais vivos e produtos do reino animal</td>\n",
              "      <td>HKG</td>\n",
              "      <td>Hong Kong</td>\n",
              "      <td>MA</td>\n",
              "      <td>MARITIMA</td>\n",
              "      <td>83.0</td>\n",
              "    </tr>\n",
              "    <tr>\n",
              "      <th>40002</th>\n",
              "      <td>I</td>\n",
              "      <td>Animais vivos e produtos do reino animal</td>\n",
              "      <td>NOR</td>\n",
              "      <td>Noruega</td>\n",
              "      <td>SP</td>\n",
              "      <td>MARITIMA</td>\n",
              "      <td>212.0</td>\n",
              "    </tr>\n",
              "    <tr>\n",
              "      <th>40003</th>\n",
              "      <td>I</td>\n",
              "      <td>Animais vivos e produtos do reino animal</td>\n",
              "      <td>ALB</td>\n",
              "      <td>Albânia</td>\n",
              "      <td>RS</td>\n",
              "      <td>MARITIMA</td>\n",
              "      <td>106310.0</td>\n",
              "    </tr>\n",
              "    <tr>\n",
              "      <th>40004</th>\n",
              "      <td>I</td>\n",
              "      <td>Animais vivos e produtos do reino animal</td>\n",
              "      <td>ARE</td>\n",
              "      <td>Emirados Árabes Unidos</td>\n",
              "      <td>SC</td>\n",
              "      <td>MARITIMA</td>\n",
              "      <td>17508.0</td>\n",
              "    </tr>\n",
              "  </tbody>\n",
              "</table>\n",
              "</div>\n",
              "      <button class=\"colab-df-convert\" onclick=\"convertToInteractive('df-028bd5b6-ee8a-46fb-bb71-f013d3059ce2')\"\n",
              "              title=\"Convert this dataframe to an interactive table.\"\n",
              "              style=\"display:none;\">\n",
              "        \n",
              "  <svg xmlns=\"http://www.w3.org/2000/svg\" height=\"24px\"viewBox=\"0 0 24 24\"\n",
              "       width=\"24px\">\n",
              "    <path d=\"M0 0h24v24H0V0z\" fill=\"none\"/>\n",
              "    <path d=\"M18.56 5.44l.94 2.06.94-2.06 2.06-.94-2.06-.94-.94-2.06-.94 2.06-2.06.94zm-11 1L8.5 8.5l.94-2.06 2.06-.94-2.06-.94L8.5 2.5l-.94 2.06-2.06.94zm10 10l.94 2.06.94-2.06 2.06-.94-2.06-.94-.94-2.06-.94 2.06-2.06.94z\"/><path d=\"M17.41 7.96l-1.37-1.37c-.4-.4-.92-.59-1.43-.59-.52 0-1.04.2-1.43.59L10.3 9.45l-7.72 7.72c-.78.78-.78 2.05 0 2.83L4 21.41c.39.39.9.59 1.41.59.51 0 1.02-.2 1.41-.59l7.78-7.78 2.81-2.81c.8-.78.8-2.07 0-2.86zM5.41 20L4 18.59l7.72-7.72 1.47 1.35L5.41 20z\"/>\n",
              "  </svg>\n",
              "      </button>\n",
              "      \n",
              "  <style>\n",
              "    .colab-df-container {\n",
              "      display:flex;\n",
              "      flex-wrap:wrap;\n",
              "      gap: 12px;\n",
              "    }\n",
              "\n",
              "    .colab-df-convert {\n",
              "      background-color: #E8F0FE;\n",
              "      border: none;\n",
              "      border-radius: 50%;\n",
              "      cursor: pointer;\n",
              "      display: none;\n",
              "      fill: #1967D2;\n",
              "      height: 32px;\n",
              "      padding: 0 0 0 0;\n",
              "      width: 32px;\n",
              "    }\n",
              "\n",
              "    .colab-df-convert:hover {\n",
              "      background-color: #E2EBFA;\n",
              "      box-shadow: 0px 1px 2px rgba(60, 64, 67, 0.3), 0px 1px 3px 1px rgba(60, 64, 67, 0.15);\n",
              "      fill: #174EA6;\n",
              "    }\n",
              "\n",
              "    [theme=dark] .colab-df-convert {\n",
              "      background-color: #3B4455;\n",
              "      fill: #D2E3FC;\n",
              "    }\n",
              "\n",
              "    [theme=dark] .colab-df-convert:hover {\n",
              "      background-color: #434B5C;\n",
              "      box-shadow: 0px 1px 3px 1px rgba(0, 0, 0, 0.15);\n",
              "      filter: drop-shadow(0px 1px 2px rgba(0, 0, 0, 0.3));\n",
              "      fill: #FFFFFF;\n",
              "    }\n",
              "  </style>\n",
              "\n",
              "      <script>\n",
              "        const buttonEl =\n",
              "          document.querySelector('#df-028bd5b6-ee8a-46fb-bb71-f013d3059ce2 button.colab-df-convert');\n",
              "        buttonEl.style.display =\n",
              "          google.colab.kernel.accessAllowed ? 'block' : 'none';\n",
              "\n",
              "        async function convertToInteractive(key) {\n",
              "          const element = document.querySelector('#df-028bd5b6-ee8a-46fb-bb71-f013d3059ce2');\n",
              "          const dataTable =\n",
              "            await google.colab.kernel.invokeFunction('convertToInteractive',\n",
              "                                                     [key], {});\n",
              "          if (!dataTable) return;\n",
              "\n",
              "          const docLinkHtml = 'Like what you see? Visit the ' +\n",
              "            '<a target=\"_blank\" href=https://colab.research.google.com/notebooks/data_table.ipynb>data table notebook</a>'\n",
              "            + ' to learn more about interactive tables.';\n",
              "          element.innerHTML = '';\n",
              "          dataTable['output_type'] = 'display_data';\n",
              "          await google.colab.output.renderOutput(dataTable, element);\n",
              "          const docLink = document.createElement('div');\n",
              "          docLink.innerHTML = docLinkHtml;\n",
              "          element.appendChild(docLink);\n",
              "        }\n",
              "      </script>\n",
              "    </div>\n",
              "  </div>\n",
              "  "
            ]
          },
          "metadata": {},
          "execution_count": 23
        }
      ]
    },
    {
      "cell_type": "code",
      "source": [
        "# Fazendo uma descrição dos itens categóricos que são a maioria no dataframe\n",
        "dfNewExp[['CO_NCM_SECAO', 'NO_SECAO_PT'\n",
        "        , 'CO_PAIS_ISOA3', 'NO_PAIS'\n",
        "        , 'SG_UF_NCM', 'NO_VIA']].describe()"
      ],
      "metadata": {
        "colab": {
          "base_uri": "https://localhost:8080/",
          "height": 174
        },
        "id": "4YLDI0wyxQ93",
        "outputId": "2d519c42-df73-4704-adaf-61cc2942564b"
      },
      "execution_count": 24,
      "outputs": [
        {
          "output_type": "execute_result",
          "data": {
            "text/plain": [
              "       CO_NCM_SECAO                NO_SECAO_PT CO_PAIS_ISOA3          NO_PAIS  \\\n",
              "count         40000                      40000         40000            40000   \n",
              "unique            6                          6           194              194   \n",
              "top              II  Produtos do reino vegetal           MHL  Marshall, Ilhas   \n",
              "freq          15931                      15931          3757             3757   \n",
              "\n",
              "       SG_UF_NCM    NO_VIA  \n",
              "count      40000     40000  \n",
              "unique        28         9  \n",
              "top           SP  MARITIMA  \n",
              "freq       10137     36210  "
            ],
            "text/html": [
              "\n",
              "  <div id=\"df-3ff3061d-213d-4633-89a5-03fd8b6ac23f\">\n",
              "    <div class=\"colab-df-container\">\n",
              "      <div>\n",
              "<style scoped>\n",
              "    .dataframe tbody tr th:only-of-type {\n",
              "        vertical-align: middle;\n",
              "    }\n",
              "\n",
              "    .dataframe tbody tr th {\n",
              "        vertical-align: top;\n",
              "    }\n",
              "\n",
              "    .dataframe thead th {\n",
              "        text-align: right;\n",
              "    }\n",
              "</style>\n",
              "<table border=\"1\" class=\"dataframe\">\n",
              "  <thead>\n",
              "    <tr style=\"text-align: right;\">\n",
              "      <th></th>\n",
              "      <th>CO_NCM_SECAO</th>\n",
              "      <th>NO_SECAO_PT</th>\n",
              "      <th>CO_PAIS_ISOA3</th>\n",
              "      <th>NO_PAIS</th>\n",
              "      <th>SG_UF_NCM</th>\n",
              "      <th>NO_VIA</th>\n",
              "    </tr>\n",
              "  </thead>\n",
              "  <tbody>\n",
              "    <tr>\n",
              "      <th>count</th>\n",
              "      <td>40000</td>\n",
              "      <td>40000</td>\n",
              "      <td>40000</td>\n",
              "      <td>40000</td>\n",
              "      <td>40000</td>\n",
              "      <td>40000</td>\n",
              "    </tr>\n",
              "    <tr>\n",
              "      <th>unique</th>\n",
              "      <td>6</td>\n",
              "      <td>6</td>\n",
              "      <td>194</td>\n",
              "      <td>194</td>\n",
              "      <td>28</td>\n",
              "      <td>9</td>\n",
              "    </tr>\n",
              "    <tr>\n",
              "      <th>top</th>\n",
              "      <td>II</td>\n",
              "      <td>Produtos do reino vegetal</td>\n",
              "      <td>MHL</td>\n",
              "      <td>Marshall, Ilhas</td>\n",
              "      <td>SP</td>\n",
              "      <td>MARITIMA</td>\n",
              "    </tr>\n",
              "    <tr>\n",
              "      <th>freq</th>\n",
              "      <td>15931</td>\n",
              "      <td>15931</td>\n",
              "      <td>3757</td>\n",
              "      <td>3757</td>\n",
              "      <td>10137</td>\n",
              "      <td>36210</td>\n",
              "    </tr>\n",
              "  </tbody>\n",
              "</table>\n",
              "</div>\n",
              "      <button class=\"colab-df-convert\" onclick=\"convertToInteractive('df-3ff3061d-213d-4633-89a5-03fd8b6ac23f')\"\n",
              "              title=\"Convert this dataframe to an interactive table.\"\n",
              "              style=\"display:none;\">\n",
              "        \n",
              "  <svg xmlns=\"http://www.w3.org/2000/svg\" height=\"24px\"viewBox=\"0 0 24 24\"\n",
              "       width=\"24px\">\n",
              "    <path d=\"M0 0h24v24H0V0z\" fill=\"none\"/>\n",
              "    <path d=\"M18.56 5.44l.94 2.06.94-2.06 2.06-.94-2.06-.94-.94-2.06-.94 2.06-2.06.94zm-11 1L8.5 8.5l.94-2.06 2.06-.94-2.06-.94L8.5 2.5l-.94 2.06-2.06.94zm10 10l.94 2.06.94-2.06 2.06-.94-2.06-.94-.94-2.06-.94 2.06-2.06.94z\"/><path d=\"M17.41 7.96l-1.37-1.37c-.4-.4-.92-.59-1.43-.59-.52 0-1.04.2-1.43.59L10.3 9.45l-7.72 7.72c-.78.78-.78 2.05 0 2.83L4 21.41c.39.39.9.59 1.41.59.51 0 1.02-.2 1.41-.59l7.78-7.78 2.81-2.81c.8-.78.8-2.07 0-2.86zM5.41 20L4 18.59l7.72-7.72 1.47 1.35L5.41 20z\"/>\n",
              "  </svg>\n",
              "      </button>\n",
              "      \n",
              "  <style>\n",
              "    .colab-df-container {\n",
              "      display:flex;\n",
              "      flex-wrap:wrap;\n",
              "      gap: 12px;\n",
              "    }\n",
              "\n",
              "    .colab-df-convert {\n",
              "      background-color: #E8F0FE;\n",
              "      border: none;\n",
              "      border-radius: 50%;\n",
              "      cursor: pointer;\n",
              "      display: none;\n",
              "      fill: #1967D2;\n",
              "      height: 32px;\n",
              "      padding: 0 0 0 0;\n",
              "      width: 32px;\n",
              "    }\n",
              "\n",
              "    .colab-df-convert:hover {\n",
              "      background-color: #E2EBFA;\n",
              "      box-shadow: 0px 1px 2px rgba(60, 64, 67, 0.3), 0px 1px 3px 1px rgba(60, 64, 67, 0.15);\n",
              "      fill: #174EA6;\n",
              "    }\n",
              "\n",
              "    [theme=dark] .colab-df-convert {\n",
              "      background-color: #3B4455;\n",
              "      fill: #D2E3FC;\n",
              "    }\n",
              "\n",
              "    [theme=dark] .colab-df-convert:hover {\n",
              "      background-color: #434B5C;\n",
              "      box-shadow: 0px 1px 3px 1px rgba(0, 0, 0, 0.15);\n",
              "      filter: drop-shadow(0px 1px 2px rgba(0, 0, 0, 0.3));\n",
              "      fill: #FFFFFF;\n",
              "    }\n",
              "  </style>\n",
              "\n",
              "      <script>\n",
              "        const buttonEl =\n",
              "          document.querySelector('#df-3ff3061d-213d-4633-89a5-03fd8b6ac23f button.colab-df-convert');\n",
              "        buttonEl.style.display =\n",
              "          google.colab.kernel.accessAllowed ? 'block' : 'none';\n",
              "\n",
              "        async function convertToInteractive(key) {\n",
              "          const element = document.querySelector('#df-3ff3061d-213d-4633-89a5-03fd8b6ac23f');\n",
              "          const dataTable =\n",
              "            await google.colab.kernel.invokeFunction('convertToInteractive',\n",
              "                                                     [key], {});\n",
              "          if (!dataTable) return;\n",
              "\n",
              "          const docLinkHtml = 'Like what you see? Visit the ' +\n",
              "            '<a target=\"_blank\" href=https://colab.research.google.com/notebooks/data_table.ipynb>data table notebook</a>'\n",
              "            + ' to learn more about interactive tables.';\n",
              "          element.innerHTML = '';\n",
              "          dataTable['output_type'] = 'display_data';\n",
              "          await google.colab.output.renderOutput(dataTable, element);\n",
              "          const docLink = document.createElement('div');\n",
              "          docLink.innerHTML = docLinkHtml;\n",
              "          element.appendChild(docLink);\n",
              "        }\n",
              "      </script>\n",
              "    </div>\n",
              "  </div>\n",
              "  "
            ]
          },
          "metadata": {},
          "execution_count": 24
        }
      ]
    },
    {
      "cell_type": "markdown",
      "source": [
        "Como fechamos o escopo nas exportações, podemos observar que o conjunto de\n",
        "registros foi filtrado corretamente, considerando que tínhamos exatamente 80k\n",
        "linhas. Outras observações que podemos destacar são:\n",
        "\n",
        "\n",
        "*   Das 21 Seções existentes na NCM, as exportações se concentraram em 6;\n",
        "*   A seção que mais registrou exportação em número foi a II - Produtos \n",
        "do reino vegetal, representando quase 40% dos registros\n",
        "*   Nesse período exportamos para 194 países\n",
        "*   A via de transporte mais utilizada é a marítima\n",
        "*   O Estado que mais registrou exportação em números foi São Paulo\n"
      ],
      "metadata": {
        "id": "VSvhNxaBzhT9"
      }
    },
    {
      "cell_type": "markdown",
      "source": [
        "### 5.3 Transformações Categóricas"
      ],
      "metadata": {
        "id": "j5amg1m1ARUt"
      }
    },
    {
      "cell_type": "markdown",
      "source": [
        "#### 5.3.1 Separação de Conjuntos de Treino e Teste"
      ],
      "metadata": {
        "id": "8KBamcNCBGbp"
      }
    },
    {
      "cell_type": "code",
      "source": [
        "# Conjuntos de treino e teste para Ordinal Encoding\n",
        "# Aqui divido meu dataset em 70/30 (treino/teste)\n",
        "treinoNewExp, testeNewExp = train_test_split(dfNewExp.values[:,0:6], test_size=0.3)\n"
      ],
      "metadata": {
        "id": "_PGQyeae8AJK"
      },
      "execution_count": 25,
      "outputs": []
    },
    {
      "cell_type": "code",
      "source": [
        "print(treinoNewExp)"
      ],
      "metadata": {
        "colab": {
          "base_uri": "https://localhost:8080/"
        },
        "id": "D8gHoZRCCkL8",
        "outputId": "20bc4bd0-2047-440d-b9e4-680edbe752a5"
      },
      "execution_count": 26,
      "outputs": [
        {
          "output_type": "stream",
          "name": "stdout",
          "text": [
            "[['IV'\n",
            "  'Produtos das indútrias alimentares; Bebidas, líquidos alcoólicos e vinagres; Tabaco e seus sucedâneos manufaturados'\n",
            "  'SGP' 'Singapura' 'SP' 'MARITIMA']\n",
            " ['I' 'Animais vivos e produtos do reino animal' 'MHL' 'Marshall, Ilhas'\n",
            "  'PR' 'MARITIMA']\n",
            " ['II' 'Produtos do reino vegetal' 'ARG' 'Argentina' 'SP' 'MARITIMA']\n",
            " ...\n",
            " ['II' 'Produtos do reino vegetal' 'GIB' 'Gibraltar' 'RS' 'MARITIMA']\n",
            " ['I' 'Animais vivos e produtos do reino animal' 'LBR' 'Libéria' 'RS'\n",
            "  'MARITIMA']\n",
            " ['IV'\n",
            "  'Produtos das indútrias alimentares; Bebidas, líquidos alcoólicos e vinagres; Tabaco e seus sucedâneos manufaturados'\n",
            "  'URY' 'Uruguai' 'SP' 'RODOVIARIA']]\n"
          ]
        }
      ]
    },
    {
      "cell_type": "markdown",
      "source": [
        "#### 5.3.2 One-hot Encoding"
      ],
      "metadata": {
        "id": "76zgJUl9JBe0"
      }
    },
    {
      "cell_type": "code",
      "source": [
        "# One-hot Encoding para os atributos de treino\n",
        "codTreino = OneHotEncoder(sparse_output=False).fit_transform(treinoNewExp)\n",
        "\n",
        "# Exibindo as 10 primeiras linhas e todos os atributos transformados\n",
        "print(codTreino[:10, :])"
      ],
      "metadata": {
        "colab": {
          "base_uri": "https://localhost:8080/"
        },
        "id": "fW2OSTYvIqYc",
        "outputId": "a3800514-e587-46a7-c9b9-b38dfefc953f"
      },
      "execution_count": 27,
      "outputs": [
        {
          "output_type": "stream",
          "name": "stdout",
          "text": [
            "[[0. 0. 0. ... 0. 0. 0.]\n",
            " [1. 0. 0. ... 0. 0. 0.]\n",
            " [0. 1. 0. ... 0. 0. 0.]\n",
            " ...\n",
            " [0. 0. 0. ... 0. 0. 0.]\n",
            " [1. 0. 0. ... 0. 0. 0.]\n",
            " [0. 1. 0. ... 0. 0. 0.]]\n"
          ]
        }
      ]
    },
    {
      "cell_type": "markdown",
      "source": [
        "#### 5.3.3 Dummy Encoding"
      ],
      "metadata": {
        "id": "YtKf8NQZKFaA"
      }
    },
    {
      "cell_type": "code",
      "source": [
        "# Dummy Encoding para os atributos de treino\n",
        "codTreinoDummy = OneHotEncoder(drop='first', sparse_output=False).fit_transform(treinoNewExp)\n",
        "\n",
        "# Exibindo as 10 primeiras linhas e todos os atributos transformados\n",
        "print(codTreinoDummy[:10, :])"
      ],
      "metadata": {
        "colab": {
          "base_uri": "https://localhost:8080/"
        },
        "id": "t0xvcGmKKWyr",
        "outputId": "6e2d7719-e60d-4023-a964-d2cc7662f215"
      },
      "execution_count": 28,
      "outputs": [
        {
          "output_type": "stream",
          "name": "stdout",
          "text": [
            "[[0. 0. 1. ... 0. 0. 0.]\n",
            " [0. 0. 0. ... 0. 0. 0.]\n",
            " [1. 0. 0. ... 0. 0. 0.]\n",
            " ...\n",
            " [0. 0. 1. ... 0. 0. 0.]\n",
            " [0. 0. 0. ... 0. 0. 0.]\n",
            " [1. 0. 0. ... 0. 0. 0.]]\n"
          ]
        }
      ]
    },
    {
      "cell_type": "markdown",
      "metadata": {
        "id": "TwXv3hnClcRE"
      },
      "source": [
        "# 6. Visualizações\n"
      ]
    },
    {
      "cell_type": "markdown",
      "source": [
        "### 6.1 Exportações US$ FOB por UF"
      ],
      "metadata": {
        "id": "W0oR55pFeznJ"
      }
    },
    {
      "cell_type": "code",
      "source": [
        "# Efetua o agrupamento da soma das exportações por UF\n",
        "dfExpAgrupadoUF = dfNewExp.groupby('SG_UF_NCM')['VL_FOB'].sum().reset_index()\n",
        "\n",
        "# Ordena o conjunto por VL_FOB\n",
        "dfNewExpOrdenado = dfExpAgrupadoUF.sort_values(['VL_FOB'], ascending = False)\n",
        "\n",
        "# Prepara a figura (fig) e a área do gráfico (ax)\n",
        "fig, ax = plt.subplots(figsize = (12, 6))\n",
        "\n",
        "# Habilita a grade na área do gráfico e aplica ordem 0 para posicionar\n",
        "# a grade por trás das barras\n",
        "ax.grid(visible=True, zorder=0, axis='y')\n",
        "\n",
        "# Plota o gráfico de barras\n",
        "barras = ax.bar(x = dfNewExpOrdenado.SG_UF_NCM\n",
        "                , height = dfNewExpOrdenado.VL_FOB/1e6\n",
        "                , color = '#666666'\n",
        "                , zorder = 3)\n",
        "\n",
        "# Acrescenta um título ao gráfico\n",
        "plt.title('Exportações Brasileiras por Estado - Março/2023')\n",
        "\n",
        "# Define os rótulos dos eixos\n",
        "plt.ylabel('exportação (em milhões US$)') \n",
        "\n",
        "# Ajusta as margens do gráfico (para eliminar margens desnecessárias)\n",
        "plt.tight_layout() \n",
        "\n",
        "# Considerando a ordenação por valor, será dado destaque a maior barra\n",
        "# no gráfico\n",
        "barras[0].set_color('#FF8C00')\n",
        "\n",
        "# Exibe o gráfico\n",
        "plt.show()\n"
      ],
      "metadata": {
        "colab": {
          "base_uri": "https://localhost:8080/",
          "height": 607
        },
        "id": "5I10TIWlEwsx",
        "outputId": "62de59f7-1f52-4275-af36-6eabddf7dce7"
      },
      "execution_count": 29,
      "outputs": [
        {
          "output_type": "display_data",
          "data": {
            "text/plain": [
              "<Figure size 1200x600 with 1 Axes>"
            ],
            "image/png": "[encoded data removed]"
          },
          "metadata": {}
        }
      ]
    },
    {
      "cell_type": "markdown",
      "source": [
        "Mato Grosso é o estado brasileiro que se destacou nas exportações com quase 3 bi US$. No próximo gráfico, visualizaremos a principal seção da NCM responsável pelo impulsionamento das exportações. Um dado chamou atenção no eixo X que representa a UF: \"ND\". Esse dado foi identificado na análise exploratória - visualização de frequência, mas foi uma opção mantê-lo para comparativos futuros.\n",
        "\n",
        "As possibilidades de composição desse atributo, inclusive \"ND\" são:\n",
        "\n",
        "*   ND - Não Declarada\n",
        "*   ED - Estados Diversos - Café\n",
        "*   RE - Reexportação\n",
        "*   MN - Mercadoria Nacionalizada\n",
        "*   CB - Consumo de Bordo\n",
        "*   EX - Exterior\n",
        "*   ZN - Zona Não Declarada\n",
        "\n"
      ],
      "metadata": {
        "id": "7aoi5NMyPULN"
      }
    },
    {
      "cell_type": "markdown",
      "source": [
        "### 6.2 Exportações US$ FOB por Seções da NCM"
      ],
      "metadata": {
        "id": "lIf2HHWvfIVh"
      }
    },
    {
      "cell_type": "code",
      "source": [
        "# Efetua o agrupamento da soma das exportações por Seção da NCM\n",
        "dfExpAgrupadoSecao = dfNewExp.groupby('NO_SECAO_PT')['VL_FOB'].sum().reset_index()\n",
        "\n",
        "dfNewExpOrdenado = dfExpAgrupadoSecao.sort_values(['VL_FOB'] , ascending=False)\n",
        "\n",
        "print(dfNewExpOrdenado)\n"
      ],
      "metadata": {
        "colab": {
          "base_uri": "https://localhost:8080/"
        },
        "id": "LER4tompWgYF",
        "outputId": "6a67265e-cebd-443c-d134-5c575afd38d0"
      },
      "execution_count": 30,
      "outputs": [
        {
          "output_type": "stream",
          "name": "stdout",
          "text": [
            "                                         NO_SECAO_PT        VL_FOB\n",
            "4                          Produtos do reino vegetal  8.825718e+09\n",
            "3  Produtos das indútrias alimentares; Bebidas, l...  1.589662e+09\n",
            "0           Animais vivos e produtos do reino animal  1.330840e+09\n",
            "1  Gorduras e óleos animais ou vegetais; Produtos...  3.513035e+08\n",
            "5                                  Produtos minerais  8.476503e+06\n",
            "2  Produtos das indústrias químicas ou indústrias...  2.585900e+04\n"
          ]
        }
      ]
    },
    {
      "cell_type": "code",
      "source": [
        "# Prepara a figura (fig) e a área do gráfico (ax) \n",
        "fig, ax = plt.subplots(figsize = (12, 4))\n",
        "\n",
        "# Habilita a grade na área do gráfico e aplica ordem 0 para posicionar\n",
        "# a grade por trás das barras\n",
        "ax.grid(visible=True, zorder=0, axis='x')\n",
        "\n",
        "# Plota o gráfico de barras e limita o texto do eixo Y a 60 caracteres\n",
        "barras = ax.barh(y = dfNewExpOrdenado['NO_SECAO_PT'].str[:60] + '...'\n",
        ", width = dfNewExpOrdenado['VL_FOB']/1e6, color = '#666666')\n",
        "\n",
        "# Inverte o eixo Y\n",
        "ax.invert_yaxis() \n",
        "\n",
        "# Acrescenta um título ao gráfico\n",
        "plt.title('Exportações Brasileiras por Seção da NCM - Março/2023')\n",
        "\n",
        "# Define o rótulo do eixo Y\n",
        "plt.ylabel('seções da NCM')\n",
        "\n",
        "# Define o rótulo do eixo X\n",
        "plt.xlabel('exportação (em milhões de US$)')\n",
        "\n",
        "# Ajusta as margens do gráfico (para eliminar margens desnecessárias)\n",
        "plt.tight_layout() \n",
        "\n",
        "# Considerando a ordenação por valor, será dado destaque a maior barra\n",
        "# no gráfico\n",
        "barras[0].set_color('#FF8C00')\n",
        "\n",
        "# Exibe o gráfico\n",
        "plt.show()"
      ],
      "metadata": {
        "colab": {
          "base_uri": "https://localhost:8080/",
          "height": 407
        },
        "id": "U7xcdPfyQxpX",
        "outputId": "2979c63f-382c-4aab-9015-1a8fd22788f4"
      },
      "execution_count": 31,
      "outputs": [
        {
          "output_type": "display_data",
          "data": {
            "text/plain": [
              "<Figure size 1200x400 with 1 Axes>"
            ],
            "image/png": "[encoded data removed]"
          },
          "metadata": {}
        }
      ]
    },
    {
      "cell_type": "markdown",
      "source": [
        "Considerando a visualização acima e o volume exportado na categoria \"Produtos do reino vegetal...\", imagina-se em primeira análise que a exportação do Mato Grosso esteja vinculada ao Agronegócio, mas isso tem necessidade de um gráfico composto com esses dois dados para fazer uma comparação mais real.\n"
      ],
      "metadata": {
        "id": "NTsyWdq36gqN"
      }
    },
    {
      "cell_type": "markdown",
      "source": [
        "### 6.3 Exportações US$ FOB por Tipo de Transporte"
      ],
      "metadata": {
        "id": "qAgxD6znfXDv"
      }
    },
    {
      "cell_type": "code",
      "source": [
        "# Efetua o agrupamento da soma das exportações por Tipo de Transporte\n",
        "dfExpAgrupTransp = dfNewExp.groupby('NO_VIA')['VL_FOB'].sum().reset_index()\n",
        "\n",
        "dfNewExpOrdenado = dfExpAgrupTransp.sort_values(['VL_FOB'] , ascending=False)\n",
        "\n",
        "print(dfNewExpOrdenado)\n",
        "\n"
      ],
      "metadata": {
        "colab": {
          "base_uri": "https://localhost:8080/"
        },
        "id": "OzWR2Ncw7I3d",
        "outputId": "9151e7f9-6eee-40b0-a439-cc21a5420696"
      },
      "execution_count": 32,
      "outputs": [
        {
          "output_type": "stream",
          "name": "stdout",
          "text": [
            "                NO_VIA        VL_FOB\n",
            "4             MARITIMA  1.173003e+10\n",
            "6           RODOVIARIA  2.409078e+08\n",
            "0                AEREA  7.017650e+07\n",
            "3              FLUVIAL  5.752461e+07\n",
            "7    VIA NAO DECLARADA  6.852261e+06\n",
            "2          FERROVIARIA  4.277200e+05\n",
            "8  VICINAL FRONTEIRICO  6.573300e+04\n",
            "5       MEIOS PROPRIOS  3.737800e+04\n",
            "1              EM MAOS  7.520000e+02\n"
          ]
        }
      ]
    },
    {
      "cell_type": "code",
      "source": [
        "# Prepara a figura (fig) e a área do gráfico (ax) \n",
        "fig, ax = plt.subplots(figsize = (12, 4))\n",
        "\n",
        "# Habilita a grade na área do gráfico e aplica ordem 0 para posicionar\n",
        "# a grade por trás das barras\n",
        "ax.grid(visible=True, zorder=0, axis='x')\n",
        "\n",
        "# Plota o gráfico de barras\n",
        "barras = ax.barh(y = dfNewExpOrdenado['NO_VIA']\n",
        ", width = dfNewExpOrdenado['VL_FOB']/1e6, color = '#666666')\n",
        "\n",
        "# Inverte o eixo Y\n",
        "ax.invert_yaxis() \n",
        "\n",
        "# Acrescenta um título ao gráfico\n",
        "plt.title('Exportações Brasileiras por Tipo de Transporte - Março/2023')\n",
        "\n",
        "# Define o rótulo do eixo Y\n",
        "plt.ylabel('tipo de Transporte')\n",
        "\n",
        "# Define o rótulo do eixo X\n",
        "plt.xlabel('exportação (em milhões de US$)')\n",
        "\n",
        "# Ajusta as margens do gráfico (para eliminar margens desnecessárias)\n",
        "plt.tight_layout() \n",
        "\n",
        "# Considerando a ordenação por valor, será dado destaque a maior barra\n",
        "# no gráfico\n",
        "barras[0].set_color('#FF8C00')\n",
        "\n",
        "# Exibe o gráfico\n",
        "plt.show()"
      ],
      "metadata": {
        "colab": {
          "base_uri": "https://localhost:8080/",
          "height": 407
        },
        "id": "Ve-eXNa5gX1C",
        "outputId": "cb653328-f0dc-409c-8db3-58d696f88b77"
      },
      "execution_count": 33,
      "outputs": [
        {
          "output_type": "display_data",
          "data": {
            "text/plain": [
              "<Figure size 1200x400 with 1 Axes>"
            ],
            "image/png": "[encoded data removed]"
          },
          "metadata": {}
        }
      ]
    },
    {
      "cell_type": "markdown",
      "source": [
        "Percebe-se que o escoamento dos nossos produtos é massivamente feito por via \n",
        "Marítima. Daí a importância de investimento nos portos e estruturas aduaneiras\n",
        "nesse setor. Além disso, abre-se várias oportunidades de estudos para melhorar\n",
        "a logística de estocagem e identificação dos produtos."
      ],
      "metadata": {
        "id": "RMRKq8rhh93r"
      }
    },
    {
      "cell_type": "markdown",
      "source": [
        "### 6.4 Exportações Por Estado e Seção da NCM"
      ],
      "metadata": {
        "id": "oWxd4UUWilp2"
      }
    },
    {
      "cell_type": "markdown",
      "source": [
        "Com base nos gráficos anteriores, é sabido que o Estado do Mato Grosso é o que \n",
        "mais exporta. Para validar a percepção anterior que o agronegócio é o maior produto exportado, precisamos comparar em um mesmo gráfico os 2 dados. Para não gerar um gráfico de visualização ruim, reduziremos a análise aos top 5.\n"
      ],
      "metadata": {
        "id": "QieSPUODi5JF"
      }
    },
    {
      "cell_type": "markdown",
      "source": [
        "Criando um novo dataframe com os top 5 UFs exportadoras e criando as agregações"
      ],
      "metadata": {
        "id": "mKZpKtU08kes"
      }
    },
    {
      "cell_type": "code",
      "source": [
        "# Agrupa as exportações por UF em US$ FOB\n",
        "dfExpUF = dfNewExp.groupby('SG_UF_NCM')['VL_FOB'].sum().reset_index()\n",
        "\n",
        "# Recupera os 5 maiores UFs por volume exportado em US$ FOB\n",
        "dfTopFive = dfExpUF.sort_values(['VL_FOB'], ascending=False).head(5)\n",
        "\n",
        "# Cria uma lista para ser usada para construção de um novo dataframe\n",
        "lsUFs = dfTopFive['SG_UF_NCM'].values.tolist()\n",
        "\n",
        "# Novo dataframe apenas com as UFs selecionadas\n",
        "dfExpNewTopFive = dfNewExp.query('SG_UF_NCM in @lsUFs')\n",
        "\n",
        "# Novo dataframe com colunas específicas\n",
        "dfNewExpAgrupado = dfExpNewTopFive.loc[:\n",
        "                             , ['CO_NCM_SECAO'\n",
        "                             , 'SG_UF_NCM'\n",
        "                             , 'VL_FOB']]\n",
        "\n",
        "# Efetua o agrupamento por UF e Seção NCM\n",
        "df2 = dfNewExpAgrupado.groupby(by=['CO_NCM_SECAO', 'SG_UF_NCM'],as_index=False).agg({'VL_FOB':['sum']})\n",
        "\n",
        "# Nivela MultiIndex em colunas com map\n",
        "df2.columns = df2.columns.map(''.join)\n",
        "\n",
        "# Renomeando a coluna\n",
        "df2 = df2.rename(columns={'VL_FOBsum':'VL_FOB'})\n",
        "\n",
        "# Agrupa por UF e recupera o tamanho para geração dos agrupamentos no gráfico\n",
        "df2Agrup = df2.groupby('SG_UF_NCM').size()\n"
      ],
      "metadata": {
        "id": "QIkP9dGz8ZsV"
      },
      "execution_count": 34,
      "outputs": []
    },
    {
      "cell_type": "markdown",
      "source": [
        "Cria o gráfico conjunto para tornar possível a comparação entre UFs e Seções\n"
      ],
      "metadata": {
        "id": "PMjEC5j-8wq_"
      }
    },
    {
      "cell_type": "code",
      "source": [
        "# Cria uma lista de cores para plotar o gráfico em diferentes agrupamentos\n",
        "barCores = ['#440154', '#414487', '#2a788e', '#22a884', '#7ad151', '#fde725']\n",
        "\n",
        "# Define base para gráficos: 1 linha com várias colunas:\n",
        "# - ncols: número de colunas necessárias para as UFs\n",
        "# - gridspec_kw: define a largura de cada subplot de acordo com o número de seções em cada UF\n",
        "# - sharey: compartilha o eixo Y (parâmetro sharey), para permitir a comparação visual entre diferentes UFs\n",
        "fig, axs = plt.subplots(nrows = 1, ncols = len(df2Agrup), \n",
        "                        figsize = (25, 8), \n",
        "                        sharey = \"row\",\n",
        "                        gridspec_kw={\"width_ratios\": df2Agrup})\n",
        "\n",
        "# Define gráficos de UFs para cada um dos slots definidos\n",
        "for i in range(len(df2Agrup)):\n",
        "    # Constrói gráfico de barra e Define label X com a UF associada\n",
        "    axs[i].bar(x = df2[df2[\"SG_UF_NCM\"] == df2Agrup.index[i]]['CO_NCM_SECAO'],\n",
        "               height = df2[df2[\"SG_UF_NCM\"] == df2Agrup.index[i]]['VL_FOB']/1e6, \n",
        "               color = barCores[i])\n",
        "    \n",
        "   \n",
        "    # Exibe valores sobre cada barra\n",
        "    axs[i].bar_label(axs[i].containers[0], fmt=\"%.0f\", color=\"#666666\")\n",
        "    \n",
        "    # Define rótulo do eixo X de cada subplot com a UF associada\n",
        "    axs[i].set(xlabel = df2Agrup.index[i])\n",
        "\n",
        "\n",
        "# Define rótulo do eixo Y somente para o primeiro plot \n",
        "# (por ser compartilhado com todos os gráficos daquela linha)\n",
        "axs[0].set(ylabel = \"exportação (em milhões de US$)\")\n",
        "\n",
        "# Habilita a grade na área do gráfico e aplica ordem 0 para posicionar\n",
        "# a grade por trás das barras\n",
        "ax.grid(visible=True)\n",
        "\n",
        "# # Define título superior comum para todos os gráficos\n",
        "fig.suptitle(\"Exportações US$ FOB por UF e Seção da NCM - Março/2023\", fontsize=16)\n",
        "\n",
        "# # Ajusta as margens do gráfico (para eliminar margens desnecessárias)\n",
        "plt.tight_layout() \n",
        "\n",
        "# # Exibe o gráfico\n",
        "plt.show()"
      ],
      "metadata": {
        "colab": {
          "base_uri": "https://localhost:8080/",
          "height": 424
        },
        "id": "C7inmatHidsT",
        "outputId": "afabf9bf-7404-476d-9495-3301d838767d"
      },
      "execution_count": 35,
      "outputs": [
        {
          "output_type": "display_data",
          "data": {
            "text/plain": [
              "<Figure size 2500x800 with 5 Axes>"
            ],
            "image/png": "[encoded data removed]"
          },
          "metadata": {}
        }
      ]
    },
    {
      "cell_type": "markdown",
      "source": [
        "Resumo das descrições das seções pois não caberia os textos no eixo do gráfico"
      ],
      "metadata": {
        "id": "hmViQwLc9DkY"
      }
    },
    {
      "cell_type": "code",
      "source": [
        "display(dfExpNewTopFive[['CO_NCM_SECAO', 'NO_SECAO_PT']].drop_duplicates())"
      ],
      "metadata": {
        "colab": {
          "base_uri": "https://localhost:8080/",
          "height": 237
        },
        "id": "FJqLnZeK9MNZ",
        "outputId": "27234409-94f4-4aee-e2ad-4f5961ee9dec"
      },
      "execution_count": 36,
      "outputs": [
        {
          "output_type": "display_data",
          "data": {
            "text/plain": [
              "      CO_NCM_SECAO                                        NO_SECAO_PT\n",
              "40002            I           Animais vivos e produtos do reino animal\n",
              "48860           II                          Produtos do reino vegetal\n",
              "64791          III  Gorduras e óleos animais ou vegetais; Produtos...\n",
              "65948           IV  Produtos das indútrias alimentares; Bebidas, l...\n",
              "79589            V                                  Produtos minerais\n",
              "79999           VI  Produtos das indústrias químicas ou indústrias..."
            ],
            "text/html": [
              "\n",
              "  <div id=\"df-9699fe16-14f1-44c2-95bf-01198824b79a\">\n",
              "    <div class=\"colab-df-container\">\n",
              "      <div>\n",
              "<style scoped>\n",
              "    .dataframe tbody tr th:only-of-type {\n",
              "        vertical-align: middle;\n",
              "    }\n",
              "\n",
              "    .dataframe tbody tr th {\n",
              "        vertical-align: top;\n",
              "    }\n",
              "\n",
              "    .dataframe thead th {\n",
              "        text-align: right;\n",
              "    }\n",
              "</style>\n",
              "<table border=\"1\" class=\"dataframe\">\n",
              "  <thead>\n",
              "    <tr style=\"text-align: right;\">\n",
              "      <th></th>\n",
              "      <th>CO_NCM_SECAO</th>\n",
              "      <th>NO_SECAO_PT</th>\n",
              "    </tr>\n",
              "  </thead>\n",
              "  <tbody>\n",
              "    <tr>\n",
              "      <th>40002</th>\n",
              "      <td>I</td>\n",
              "      <td>Animais vivos e produtos do reino animal</td>\n",
              "    </tr>\n",
              "    <tr>\n",
              "      <th>48860</th>\n",
              "      <td>II</td>\n",
              "      <td>Produtos do reino vegetal</td>\n",
              "    </tr>\n",
              "    <tr>\n",
              "      <th>64791</th>\n",
              "      <td>III</td>\n",
              "      <td>Gorduras e óleos animais ou vegetais; Produtos...</td>\n",
              "    </tr>\n",
              "    <tr>\n",
              "      <th>65948</th>\n",
              "      <td>IV</td>\n",
              "      <td>Produtos das indútrias alimentares; Bebidas, l...</td>\n",
              "    </tr>\n",
              "    <tr>\n",
              "      <th>79589</th>\n",
              "      <td>V</td>\n",
              "      <td>Produtos minerais</td>\n",
              "    </tr>\n",
              "    <tr>\n",
              "      <th>79999</th>\n",
              "      <td>VI</td>\n",
              "      <td>Produtos das indústrias químicas ou indústrias...</td>\n",
              "    </tr>\n",
              "  </tbody>\n",
              "</table>\n",
              "</div>\n",
              "      <button class=\"colab-df-convert\" onclick=\"convertToInteractive('df-9699fe16-14f1-44c2-95bf-01198824b79a')\"\n",
              "              title=\"Convert this dataframe to an interactive table.\"\n",
              "              style=\"display:none;\">\n",
              "        \n",
              "  <svg xmlns=\"http://www.w3.org/2000/svg\" height=\"24px\"viewBox=\"0 0 24 24\"\n",
              "       width=\"24px\">\n",
              "    <path d=\"M0 0h24v24H0V0z\" fill=\"none\"/>\n",
              "    <path d=\"M18.56 5.44l.94 2.06.94-2.06 2.06-.94-2.06-.94-.94-2.06-.94 2.06-2.06.94zm-11 1L8.5 8.5l.94-2.06 2.06-.94-2.06-.94L8.5 2.5l-.94 2.06-2.06.94zm10 10l.94 2.06.94-2.06 2.06-.94-2.06-.94-.94-2.06-.94 2.06-2.06.94z\"/><path d=\"M17.41 7.96l-1.37-1.37c-.4-.4-.92-.59-1.43-.59-.52 0-1.04.2-1.43.59L10.3 9.45l-7.72 7.72c-.78.78-.78 2.05 0 2.83L4 21.41c.39.39.9.59 1.41.59.51 0 1.02-.2 1.41-.59l7.78-7.78 2.81-2.81c.8-.78.8-2.07 0-2.86zM5.41 20L4 18.59l7.72-7.72 1.47 1.35L5.41 20z\"/>\n",
              "  </svg>\n",
              "      </button>\n",
              "      \n",
              "  <style>\n",
              "    .colab-df-container {\n",
              "      display:flex;\n",
              "      flex-wrap:wrap;\n",
              "      gap: 12px;\n",
              "    }\n",
              "\n",
              "    .colab-df-convert {\n",
              "      background-color: #E8F0FE;\n",
              "      border: none;\n",
              "      border-radius: 50%;\n",
              "      cursor: pointer;\n",
              "      display: none;\n",
              "      fill: #1967D2;\n",
              "      height: 32px;\n",
              "      padding: 0 0 0 0;\n",
              "      width: 32px;\n",
              "    }\n",
              "\n",
              "    .colab-df-convert:hover {\n",
              "      background-color: #E2EBFA;\n",
              "      box-shadow: 0px 1px 2px rgba(60, 64, 67, 0.3), 0px 1px 3px 1px rgba(60, 64, 67, 0.15);\n",
              "      fill: #174EA6;\n",
              "    }\n",
              "\n",
              "    [theme=dark] .colab-df-convert {\n",
              "      background-color: #3B4455;\n",
              "      fill: #D2E3FC;\n",
              "    }\n",
              "\n",
              "    [theme=dark] .colab-df-convert:hover {\n",
              "      background-color: #434B5C;\n",
              "      box-shadow: 0px 1px 3px 1px rgba(0, 0, 0, 0.15);\n",
              "      filter: drop-shadow(0px 1px 2px rgba(0, 0, 0, 0.3));\n",
              "      fill: #FFFFFF;\n",
              "    }\n",
              "  </style>\n",
              "\n",
              "      <script>\n",
              "        const buttonEl =\n",
              "          document.querySelector('#df-9699fe16-14f1-44c2-95bf-01198824b79a button.colab-df-convert');\n",
              "        buttonEl.style.display =\n",
              "          google.colab.kernel.accessAllowed ? 'block' : 'none';\n",
              "\n",
              "        async function convertToInteractive(key) {\n",
              "          const element = document.querySelector('#df-9699fe16-14f1-44c2-95bf-01198824b79a');\n",
              "          const dataTable =\n",
              "            await google.colab.kernel.invokeFunction('convertToInteractive',\n",
              "                                                     [key], {});\n",
              "          if (!dataTable) return;\n",
              "\n",
              "          const docLinkHtml = 'Like what you see? Visit the ' +\n",
              "            '<a target=\"_blank\" href=https://colab.research.google.com/notebooks/data_table.ipynb>data table notebook</a>'\n",
              "            + ' to learn more about interactive tables.';\n",
              "          element.innerHTML = '';\n",
              "          dataTable['output_type'] = 'display_data';\n",
              "          await google.colab.output.renderOutput(dataTable, element);\n",
              "          const docLink = document.createElement('div');\n",
              "          docLink.innerHTML = docLinkHtml;\n",
              "          element.appendChild(docLink);\n",
              "        }\n",
              "      </script>\n",
              "    </div>\n",
              "  </div>\n",
              "  "
            ]
          },
          "metadata": {}
        }
      ]
    },
    {
      "cell_type": "markdown",
      "source": [
        " # 7. Conclusão\n",
        " \n",
        " Na análise preliminar, utilizando um conjunto de dados reduzido e fechando no\n",
        " escopo de Exportação, visualizasse que o Estado do Mato Grosso  foi o maior\n",
        " exportador de Março/2023 com o agronegócio despontando de longe como principal\n",
        " peso na balança. Contudo, dada a restrição do conjunto de dados, vê-se a \n",
        " necessidade de se agrupar outros valores para gerar um conjunto mais aprimorado\n",
        " de teste. Outros datasets precisam ser incorporados nesse estudo se quisermos\n",
        " predizer qual área será tendência de exportação nos próximos anos. "
      ],
      "metadata": {
        "id": "MPlJILJZBypV"
      }
    },
    {
      "cell_type": "markdown",
      "source": [
        "\n"
      ],
      "metadata": {
        "id": "a43H2mjZhUDG"
      }
    }
  ],
  "metadata": {
    "colab": {
      "toc_visible": true,
      "provenance": [],
      "mount_file_id": "1bjTQHvox1s2gfgOipKlqqJ47Ee2Y1FgY",
      "authorship_tag": "ABX9TyOTNno/Bw7EoJrepE3qCn6W",
      "include_colab_link": true
    },
    "kernelspec": {
      "display_name": "Python 3",
      "name": "python3"
    },
    "language_info": {
      "name": "python"
    }
  },
  "nbformat": 4,
  "nbformat_minor": 0
}